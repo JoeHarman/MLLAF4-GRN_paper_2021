{
 "cells": [
  {
   "cell_type": "markdown",
   "metadata": {},
   "source": [
    "# R script for building GRNs\n",
    "\n",
    "Requires ChIP-seq (of gene of interest) peak calls annotated to the nearest promoter (Or alternative peak-promoter assignment). This script is built on output from Homer annotatePeaks.pl.\n",
    "\n",
    "Requires differential RNA-seq data, after knockdown of gene of interest. This script is built on output from EdgeR.\n"
   ]
  },
  {
   "cell_type": "markdown",
   "metadata": {},
   "source": [
    "## load packages"
   ]
  },
  {
   "cell_type": "code",
   "execution_count": 4,
   "metadata": {
    "collapsed": false,
    "jupyter": {
     "outputs_hidden": false
    }
   },
   "outputs": [],
   "source": [
    "library(tidyverse)\n",
    "library(annotables)\n",
    "library(GeneNetworkBuilder)\n"
   ]
  },
  {
   "cell_type": "markdown",
   "metadata": {},
   "source": [
    "## Convert ChIP-seq peak file into edge list"
   ]
  },
  {
   "cell_type": "code",
   "execution_count": 8,
   "metadata": {},
   "outputs": [
    {
     "data": {
      "text/html": [
       "<table>\n",
       "<caption>A tibble: 2 × 19</caption>\n",
       "<thead>\n",
       "\t<tr><th scope=col>PeakID (cmd=annotatePeaks.pl /t1-data/user/rthorne/Analysis-Scripts/SMYD2/data/MLL_AF4_Peaks_hg19.bed hg19 -noann)</th><th scope=col>Chr</th><th scope=col>Start</th><th scope=col>End</th><th scope=col>Strand</th><th scope=col>Peak Score</th><th scope=col>Focus Ratio/Region Size</th><th scope=col>Annotation</th><th scope=col>Detailed Annotation</th><th scope=col>Distance to TSS</th><th scope=col>Nearest PromoterID</th><th scope=col>Entrez ID</th><th scope=col>Nearest Unigene</th><th scope=col>Nearest Refseq</th><th scope=col>Nearest Ensembl</th><th scope=col>Gene Name</th><th scope=col>Gene Alias</th><th scope=col>Gene Description</th><th scope=col>Gene Type</th></tr>\n",
       "\t<tr><th scope=col>&lt;chr&gt;</th><th scope=col>&lt;chr&gt;</th><th scope=col>&lt;dbl&gt;</th><th scope=col>&lt;dbl&gt;</th><th scope=col>&lt;chr&gt;</th><th scope=col>&lt;dbl&gt;</th><th scope=col>&lt;lgl&gt;</th><th scope=col>&lt;lgl&gt;</th><th scope=col>&lt;lgl&gt;</th><th scope=col>&lt;dbl&gt;</th><th scope=col>&lt;chr&gt;</th><th scope=col>&lt;dbl&gt;</th><th scope=col>&lt;chr&gt;</th><th scope=col>&lt;chr&gt;</th><th scope=col>&lt;chr&gt;</th><th scope=col>&lt;chr&gt;</th><th scope=col>&lt;chr&gt;</th><th scope=col>&lt;chr&gt;</th><th scope=col>&lt;chr&gt;</th></tr>\n",
       "</thead>\n",
       "<tbody>\n",
       "\t<tr><td>PTPN1-2</td><td>chr20</td><td>49134420</td><td>49136313</td><td>+</td><td>0</td><td>NA</td><td>NA</td><td>NA</td><td> 8508</td><td>NM_001278618</td><td> 5770</td><td>Hs.417549</td><td>NM_002827</td><td>HPRD:01477</td><td>PTPN1</td><td>PTP1B     </td><td>protein tyrosine phosphatase, non-receptor type 1</td><td>protein-coding</td></tr>\n",
       "\t<tr><td>SENP6  </td><td>chr6 </td><td>76308942</td><td>76340220</td><td>+</td><td>0</td><td>NA</td><td>NA</td><td>NA</td><td>12959</td><td>NM_001100409</td><td>26054</td><td>Hs.485784</td><td>NM_015571</td><td>HPRD:05417</td><td>SENP6</td><td>SSP1|SUSP1</td><td>SUMO1/sentrin specific peptidase 6               </td><td>protein-coding</td></tr>\n",
       "</tbody>\n",
       "</table>\n"
      ],
      "text/latex": [
       "A tibble: 2 × 19\n",
       "\\begin{tabular}{lllllllllllllllllll}\n",
       " PeakID (cmd=annotatePeaks.pl /t1-data/user/rthorne/Analysis-Scripts/SMYD2/data/MLL\\_AF4\\_Peaks\\_hg19.bed hg19 -noann) & Chr & Start & End & Strand & Peak Score & Focus Ratio/Region Size & Annotation & Detailed Annotation & Distance to TSS & Nearest PromoterID & Entrez ID & Nearest Unigene & Nearest Refseq & Nearest Ensembl & Gene Name & Gene Alias & Gene Description & Gene Type\\\\\n",
       " <chr> & <chr> & <dbl> & <dbl> & <chr> & <dbl> & <lgl> & <lgl> & <lgl> & <dbl> & <chr> & <dbl> & <chr> & <chr> & <chr> & <chr> & <chr> & <chr> & <chr>\\\\\n",
       "\\hline\n",
       "\t PTPN1-2 & chr20 & 49134420 & 49136313 & + & 0 & NA & NA & NA &  8508 & NM\\_001278618 &  5770 & Hs.417549 & NM\\_002827 & HPRD:01477 & PTPN1 & PTP1B      & protein tyrosine phosphatase, non-receptor type 1 & protein-coding\\\\\n",
       "\t SENP6   & chr6  & 76308942 & 76340220 & + & 0 & NA & NA & NA & 12959 & NM\\_001100409 & 26054 & Hs.485784 & NM\\_015571 & HPRD:05417 & SENP6 & SSP1\\textbar{}SUSP1 & SUMO1/sentrin specific peptidase 6                & protein-coding\\\\\n",
       "\\end{tabular}\n"
      ],
      "text/markdown": [
       "\n",
       "A tibble: 2 × 19\n",
       "\n",
       "| PeakID (cmd=annotatePeaks.pl /t1-data/user/rthorne/Analysis-Scripts/SMYD2/data/MLL_AF4_Peaks_hg19.bed hg19 -noann) &lt;chr&gt; | Chr &lt;chr&gt; | Start &lt;dbl&gt; | End &lt;dbl&gt; | Strand &lt;chr&gt; | Peak Score &lt;dbl&gt; | Focus Ratio/Region Size &lt;lgl&gt; | Annotation &lt;lgl&gt; | Detailed Annotation &lt;lgl&gt; | Distance to TSS &lt;dbl&gt; | Nearest PromoterID &lt;chr&gt; | Entrez ID &lt;dbl&gt; | Nearest Unigene &lt;chr&gt; | Nearest Refseq &lt;chr&gt; | Nearest Ensembl &lt;chr&gt; | Gene Name &lt;chr&gt; | Gene Alias &lt;chr&gt; | Gene Description &lt;chr&gt; | Gene Type &lt;chr&gt; |\n",
       "|---|---|---|---|---|---|---|---|---|---|---|---|---|---|---|---|---|---|---|\n",
       "| PTPN1-2 | chr20 | 49134420 | 49136313 | + | 0 | NA | NA | NA |  8508 | NM_001278618 |  5770 | Hs.417549 | NM_002827 | HPRD:01477 | PTPN1 | PTP1B      | protein tyrosine phosphatase, non-receptor type 1 | protein-coding |\n",
       "| SENP6   | chr6  | 76308942 | 76340220 | + | 0 | NA | NA | NA | 12959 | NM_001100409 | 26054 | Hs.485784 | NM_015571 | HPRD:05417 | SENP6 | SSP1|SUSP1 | SUMO1/sentrin specific peptidase 6                | protein-coding |\n",
       "\n"
      ],
      "text/plain": [
       "  PeakID (cmd=annotatePeaks.pl /t1-data/user/rthorne/Analysis-Scripts/SMYD2/data/MLL_AF4_Peaks_hg19.bed hg19 -noann)\n",
       "1 PTPN1-2                                                                                                           \n",
       "2 SENP6                                                                                                             \n",
       "  Chr   Start    End      Strand Peak Score Focus Ratio/Region Size Annotation\n",
       "1 chr20 49134420 49136313 +      0          NA                      NA        \n",
       "2 chr6  76308942 76340220 +      0          NA                      NA        \n",
       "  Detailed Annotation Distance to TSS Nearest PromoterID Entrez ID\n",
       "1 NA                   8508           NM_001278618        5770    \n",
       "2 NA                  12959           NM_001100409       26054    \n",
       "  Nearest Unigene Nearest Refseq Nearest Ensembl Gene Name Gene Alias\n",
       "1 Hs.417549       NM_002827      HPRD:01477      PTPN1     PTP1B     \n",
       "2 Hs.485784       NM_015571      HPRD:05417      SENP6     SSP1|SUSP1\n",
       "  Gene Description                                  Gene Type     \n",
       "1 protein tyrosine phosphatase, non-receptor type 1 protein-coding\n",
       "2 SUMO1/sentrin specific peptidase 6                protein-coding"
      ]
     },
     "metadata": {},
     "output_type": "display_data"
    }
   ],
   "source": [
    "suppressMessages(read_tsv(\"../data/ChIPseq_tables/MLL-AF4.ann.bed\")) %>%\n",
    "    head(2)"
   ]
  },
  {
   "cell_type": "code",
   "execution_count": 9,
   "metadata": {},
   "outputs": [
    {
     "data": {
      "text/html": [
       "<table>\n",
       "<caption>A data.frame: 6 × 2</caption>\n",
       "<thead>\n",
       "\t<tr><th></th><th scope=col>from</th><th scope=col>to</th></tr>\n",
       "\t<tr><th></th><th scope=col>&lt;chr&gt;</th><th scope=col>&lt;chr&gt;</th></tr>\n",
       "</thead>\n",
       "<tbody>\n",
       "\t<tr><th scope=row>1</th><td>4297</td><td>5770 </td></tr>\n",
       "\t<tr><th scope=row>2</th><td>4297</td><td>26054</td></tr>\n",
       "\t<tr><th scope=row>3</th><td>4297</td><td>1997 </td></tr>\n",
       "\t<tr><th scope=row>4</th><td>4297</td><td>4134 </td></tr>\n",
       "\t<tr><th scope=row>5</th><td>4297</td><td>3185 </td></tr>\n",
       "\t<tr><th scope=row>6</th><td>4297</td><td>2770 </td></tr>\n",
       "</tbody>\n",
       "</table>\n"
      ],
      "text/latex": [
       "A data.frame: 6 × 2\n",
       "\\begin{tabular}{r|ll}\n",
       "  & from & to\\\\\n",
       "  & <chr> & <chr>\\\\\n",
       "\\hline\n",
       "\t1 & 4297 & 5770 \\\\\n",
       "\t2 & 4297 & 26054\\\\\n",
       "\t3 & 4297 & 1997 \\\\\n",
       "\t4 & 4297 & 4134 \\\\\n",
       "\t5 & 4297 & 3185 \\\\\n",
       "\t6 & 4297 & 2770 \\\\\n",
       "\\end{tabular}\n"
      ],
      "text/markdown": [
       "\n",
       "A data.frame: 6 × 2\n",
       "\n",
       "| <!--/--> | from &lt;chr&gt; | to &lt;chr&gt; |\n",
       "|---|---|---|\n",
       "| 1 | 4297 | 5770  |\n",
       "| 2 | 4297 | 26054 |\n",
       "| 3 | 4297 | 1997  |\n",
       "| 4 | 4297 | 4134  |\n",
       "| 5 | 4297 | 3185  |\n",
       "| 6 | 4297 | 2770  |\n",
       "\n"
      ],
      "text/plain": [
       "  from to   \n",
       "1 4297 5770 \n",
       "2 4297 26054\n",
       "3 4297 1997 \n",
       "4 4297 4134 \n",
       "5 4297 3185 \n",
       "6 4297 2770 "
      ]
     },
     "metadata": {},
     "output_type": "display_data"
    }
   ],
   "source": [
    "binding.table <- suppressMessages(read_tsv(\"../data/ChIPseq_tables/MLL-AF4.ann.bed\")) %>%\n",
    "    mutate(\n",
    "        from = \"4297\", # Entrez ID for KMT2A (gene of interest). Replace as required.\n",
    "        to = as.character(`Entrez ID`)\n",
    "            ) %>%\n",
    "    select(from, to) %>%\n",
    "    unique() %>%\n",
    "    as.data.frame()\n",
    "\n",
    "head(binding.table)"
   ]
  },
  {
   "cell_type": "markdown",
   "metadata": {},
   "source": [
    "## Load underlying network"
   ]
  },
  {
   "cell_type": "code",
   "execution_count": 10,
   "metadata": {
    "collapsed": false,
    "jupyter": {
     "outputs_hidden": false
    }
   },
   "outputs": [],
   "source": [
    "data(\"hs.interactionmap\") # Underlying network, sourced from GeneNetworkBuilder"
   ]
  },
  {
   "cell_type": "code",
   "execution_count": 11,
   "metadata": {},
   "outputs": [
    {
     "data": {
      "text/html": [
       "<table>\n",
       "<caption>A data.frame: 6 × 2</caption>\n",
       "<thead>\n",
       "\t<tr><th></th><th scope=col>from</th><th scope=col>to</th></tr>\n",
       "\t<tr><th></th><th scope=col>&lt;fct&gt;</th><th scope=col>&lt;fct&gt;</th></tr>\n",
       "</thead>\n",
       "<tbody>\n",
       "\t<tr><th scope=row>1</th><td>1874</td><td>574512</td></tr>\n",
       "\t<tr><th scope=row>2</th><td>4808</td><td>391059</td></tr>\n",
       "\t<tr><th scope=row>3</th><td>2002</td><td>391059</td></tr>\n",
       "\t<tr><th scope=row>4</th><td>7050</td><td>391059</td></tr>\n",
       "\t<tr><th scope=row>5</th><td>4087</td><td>391059</td></tr>\n",
       "\t<tr><th scope=row>6</th><td>6775</td><td>391059</td></tr>\n",
       "</tbody>\n",
       "</table>\n"
      ],
      "text/latex": [
       "A data.frame: 6 × 2\n",
       "\\begin{tabular}{r|ll}\n",
       "  & from & to\\\\\n",
       "  & <fct> & <fct>\\\\\n",
       "\\hline\n",
       "\t1 & 1874 & 574512\\\\\n",
       "\t2 & 4808 & 391059\\\\\n",
       "\t3 & 2002 & 391059\\\\\n",
       "\t4 & 7050 & 391059\\\\\n",
       "\t5 & 4087 & 391059\\\\\n",
       "\t6 & 6775 & 391059\\\\\n",
       "\\end{tabular}\n"
      ],
      "text/markdown": [
       "\n",
       "A data.frame: 6 × 2\n",
       "\n",
       "| <!--/--> | from &lt;fct&gt; | to &lt;fct&gt; |\n",
       "|---|---|---|\n",
       "| 1 | 1874 | 574512 |\n",
       "| 2 | 4808 | 391059 |\n",
       "| 3 | 2002 | 391059 |\n",
       "| 4 | 7050 | 391059 |\n",
       "| 5 | 4087 | 391059 |\n",
       "| 6 | 6775 | 391059 |\n",
       "\n"
      ],
      "text/plain": [
       "  from to    \n",
       "1 1874 574512\n",
       "2 4808 391059\n",
       "3 2002 391059\n",
       "4 7050 391059\n",
       "5 4087 391059\n",
       "6 6775 391059"
      ]
     },
     "metadata": {},
     "output_type": "display_data"
    }
   ],
   "source": [
    "head(hs.interactionmap)"
   ]
  },
  {
   "cell_type": "markdown",
   "metadata": {},
   "source": [
    "## Import RNA-seq data and convert gene symbols into Entrez IDs"
   ]
  },
  {
   "cell_type": "code",
   "execution_count": 13,
   "metadata": {
    "collapsed": false,
    "jupyter": {
     "outputs_hidden": false
    }
   },
   "outputs": [
    {
     "data": {
      "text/html": [
       "<table>\n",
       "<caption>A tibble: 3 × 3</caption>\n",
       "<thead>\n",
       "\t<tr><th scope=col>Geneid</th><th scope=col>logFC</th><th scope=col>FDR</th></tr>\n",
       "\t<tr><th scope=col>&lt;chr&gt;</th><th scope=col>&lt;dbl&gt;</th><th scope=col>&lt;dbl&gt;</th></tr>\n",
       "</thead>\n",
       "<tbody>\n",
       "\t<tr><td>PROM1       </td><td>-1.918198</td><td>3.606216e-275</td></tr>\n",
       "\t<tr><td>ANXA2R      </td><td>-2.123526</td><td>3.086909e-222</td></tr>\n",
       "\t<tr><td>LOC101927497</td><td>-2.178858</td><td>3.824309e-168</td></tr>\n",
       "</tbody>\n",
       "</table>\n"
      ],
      "text/latex": [
       "A tibble: 3 × 3\n",
       "\\begin{tabular}{lll}\n",
       " Geneid & logFC & FDR\\\\\n",
       " <chr> & <dbl> & <dbl>\\\\\n",
       "\\hline\n",
       "\t PROM1        & -1.918198 & 3.606216e-275\\\\\n",
       "\t ANXA2R       & -2.123526 & 3.086909e-222\\\\\n",
       "\t LOC101927497 & -2.178858 & 3.824309e-168\\\\\n",
       "\\end{tabular}\n"
      ],
      "text/markdown": [
       "\n",
       "A tibble: 3 × 3\n",
       "\n",
       "| Geneid &lt;chr&gt; | logFC &lt;dbl&gt; | FDR &lt;dbl&gt; |\n",
       "|---|---|---|\n",
       "| PROM1        | -1.918198 | 3.606216e-275 |\n",
       "| ANXA2R       | -2.123526 | 3.086909e-222 |\n",
       "| LOC101927497 | -2.178858 | 3.824309e-168 |\n",
       "\n"
      ],
      "text/plain": [
       "  Geneid       logFC     FDR          \n",
       "1 PROM1        -1.918198 3.606216e-275\n",
       "2 ANXA2R       -2.123526 3.086909e-222\n",
       "3 LOC101927497 -2.178858 3.824309e-168"
      ]
     },
     "metadata": {},
     "output_type": "display_data"
    }
   ],
   "source": [
    "deg.filePath <- \"../data/RNAseq_tables/MLLAF4_KD/contrast_SIMM_vs_SIMA6_counts.tsv\"\n",
    "\n",
    "de.genes <- suppressMessages(read_tsv(deg.filePath)) %>%\n",
    "    select(Geneid, logFC, FDR)\n",
    "\n",
    "head(de.genes, 3)"
   ]
  },
  {
   "cell_type": "markdown",
   "metadata": {},
   "source": [
    "Prepare gene table for lookup joins, using annotables."
   ]
  },
  {
   "cell_type": "code",
   "execution_count": 15,
   "metadata": {
    "collapsed": false,
    "jupyter": {
     "outputs_hidden": false
    }
   },
   "outputs": [],
   "source": [
    "# Prepare gene table for lookup joins\n",
    "lookup <- grch37 %>%\n",
    "    mutate(entrez = as.character(entrez)) %>%\n",
    "    select(ensgene, entrez, symbol) %>%\n",
    "    filter(entrez != \"<NA>\")"
   ]
  },
  {
   "cell_type": "code",
   "execution_count": 16,
   "metadata": {
    "collapsed": false,
    "jupyter": {
     "outputs_hidden": false
    }
   },
   "outputs": [
    {
     "data": {
      "text/html": [
       "<table>\n",
       "<caption>A data.frame: 3 × 4</caption>\n",
       "<thead>\n",
       "\t<tr><th></th><th scope=col>entrez</th><th scope=col>logFC</th><th scope=col>P.Value</th><th scope=col>symbol</th></tr>\n",
       "\t<tr><th></th><th scope=col>&lt;chr&gt;</th><th scope=col>&lt;dbl&gt;</th><th scope=col>&lt;dbl&gt;</th><th scope=col>&lt;chr&gt;</th></tr>\n",
       "</thead>\n",
       "<tbody>\n",
       "\t<tr><th scope=row>1</th><td>8842  </td><td>-1.918198</td><td>3.606216e-275</td><td>PROM1 </td></tr>\n",
       "\t<tr><th scope=row>2</th><td>389289</td><td>-2.123526</td><td>3.086909e-222</td><td>ANXA2R</td></tr>\n",
       "\t<tr><th scope=row>3</th><td>132864</td><td>-1.958025</td><td>1.677680e-151</td><td>CPEB2 </td></tr>\n",
       "</tbody>\n",
       "</table>\n"
      ],
      "text/latex": [
       "A data.frame: 3 × 4\n",
       "\\begin{tabular}{r|llll}\n",
       "  & entrez & logFC & P.Value & symbol\\\\\n",
       "  & <chr> & <dbl> & <dbl> & <chr>\\\\\n",
       "\\hline\n",
       "\t1 & 8842   & -1.918198 & 3.606216e-275 & PROM1 \\\\\n",
       "\t2 & 389289 & -2.123526 & 3.086909e-222 & ANXA2R\\\\\n",
       "\t3 & 132864 & -1.958025 & 1.677680e-151 & CPEB2 \\\\\n",
       "\\end{tabular}\n"
      ],
      "text/markdown": [
       "\n",
       "A data.frame: 3 × 4\n",
       "\n",
       "| <!--/--> | entrez &lt;chr&gt; | logFC &lt;dbl&gt; | P.Value &lt;dbl&gt; | symbol &lt;chr&gt; |\n",
       "|---|---|---|---|---|\n",
       "| 1 | 8842   | -1.918198 | 3.606216e-275 | PROM1  |\n",
       "| 2 | 389289 | -2.123526 | 3.086909e-222 | ANXA2R |\n",
       "| 3 | 132864 | -1.958025 | 1.677680e-151 | CPEB2  |\n",
       "\n"
      ],
      "text/plain": [
       "  entrez logFC     P.Value       symbol\n",
       "1 8842   -1.918198 3.606216e-275 PROM1 \n",
       "2 389289 -2.123526 3.086909e-222 ANXA2R\n",
       "3 132864 -1.958025 1.677680e-151 CPEB2 "
      ]
     },
     "metadata": {},
     "output_type": "display_data"
    }
   ],
   "source": [
    "exprs <- de.genes %>%\n",
    "    inner_join(lookup, by = c(\"Geneid\" = \"symbol\")) %>% # Convert to entrez\n",
    "    select(entrez, logFC, P.Value = FDR, symbol = Geneid) %>%\n",
    "    distinct(entrez, .keep_all = T) %>%\n",
    "    as.data.frame()\n",
    "\n",
    "head(exprs, 3)"
   ]
  },
  {
   "cell_type": "markdown",
   "metadata": {},
   "source": [
    "## Generate network using GeneNetworkBuilder, and export nodes and edges"
   ]
  },
  {
   "cell_type": "code",
   "execution_count": 24,
   "metadata": {
    "collapsed": false,
    "jupyter": {
     "outputs_hidden": false
    }
   },
   "outputs": [],
   "source": [
    "net <- buildNetwork(\n",
    "    TFbindingTable = as.data.frame(binding.table),\n",
    "    interactionmap = hs.interactionmap,\n",
    "    level = 1\n",
    ")\n",
    "\n",
    "filtered.net <- filterNetwork(\n",
    "    rootgene = \"4297\", # KMT2A entrez ID. Replace as required.\n",
    "    sifNetwork = net,\n",
    "    exprsData = exprs,\n",
    "    mergeBy = \"entrez\",\n",
    "    tolerance = 2,\n",
    "    cutoffPVal = 0.05,\n",
    "    cutoffLFC = 0.001\n",
    ")\n"
   ]
  },
  {
   "cell_type": "code",
   "execution_count": 26,
   "metadata": {
    "collapsed": false,
    "jupyter": {
     "outputs_hidden": false
    }
   },
   "outputs": [],
   "source": [
    "\n",
    "edges <- filtered.net %>% select(from, to)\n",
    "nodes <- edges %>% \n",
    "    gather(node_type, entrez) %>% \n",
    "    distinct(entrez) %>% \n",
    "    inner_join(hg38.lookup, by = \"entrez\") %>% \n",
    "    select(entrez, symbol)\n",
    "\n",
    "    write_tsv(edges, \"./SEM_MLL-AF4-Network_edges.txt\")\n",
    "    write_tsv(nodes, \"./SEM_MLL-AF4-Network_nodes.txt\")"
   ]
  }
 ],
 "metadata": {
  "anaconda-cloud": {},
  "kernelspec": {
   "display_name": "R",
   "language": "R",
   "name": "ir"
  },
  "language_info": {
   "codemirror_mode": "r",
   "file_extension": ".r",
   "mimetype": "text/x-r-source",
   "name": "R",
   "pygments_lexer": "r",
   "version": "3.6.1"
  },
  "toc": {
   "base_numbering": 1,
   "nav_menu": {},
   "number_sections": true,
   "sideBar": true,
   "skip_h1_title": true,
   "title_cell": "Table of Contents",
   "title_sidebar": "Contents",
   "toc_cell": false,
   "toc_position": {},
   "toc_section_display": true,
   "toc_window_display": false
  }
 },
 "nbformat": 4,
 "nbformat_minor": 4
}
