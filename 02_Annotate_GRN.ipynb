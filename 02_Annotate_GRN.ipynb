{
 "cells": [
  {
   "cell_type": "markdown",
   "metadata": {},
   "source": [
    "# Annotating GRN\n",
    "\n",
    "The goal here is to create a fully annotated network that covers the full breadth of information that we are integrating with the data. This will simplify future analysis and allow us to more easily interact with the datasets."
   ]
  },
  {
   "cell_type": "code",
   "execution_count": 1,
   "metadata": {},
   "outputs": [],
   "source": [
    "library(pacman)\n",
    "p_load(tidyverse, igraph, annotables)"
   ]
  },
  {
   "cell_type": "code",
   "execution_count": 2,
   "metadata": {},
   "outputs": [],
   "source": [
    "out <- \"./MLL-AF4/\"\n",
    "dir.create(out, F)"
   ]
  },
  {
   "cell_type": "markdown",
   "metadata": {},
   "source": [
    "## Importing network"
   ]
  },
  {
   "cell_type": "code",
   "execution_count": 3,
   "metadata": {
    "collapsed": false,
    "jupyter": {
     "outputs_hidden": false
    }
   },
   "outputs": [],
   "source": [
    "# Network\n",
    "edges <- suppressMessages(read_tsv(\"../GRN_Creation/Networks/SEM_MLL-AF4-Network_edges.txt\"))\n",
    "nodes <- suppressMessages(read_tsv(\"../GRN_Creation/Networks/SEM_MLL-AF4-Network_nodes.txt\", col_types = \"cc\")) %>% \n",
    "  distinct(entrez, .keep_all = T)\n"
   ]
  },
  {
   "cell_type": "markdown",
   "metadata": {},
   "source": [
    "### Setting up functions"
   ]
  },
  {
   "cell_type": "code",
   "execution_count": 4,
   "metadata": {
    "collapsed": false,
    "jupyter": {
     "outputs_hidden": false
    }
   },
   "outputs": [],
   "source": [
    "gene_degree <- function(g){\n",
    "    require(igraph)\n",
    "    require(tidyverse)\n",
    "    \n",
    "    x <- g %>% igraph::degree()  \n",
    "    data.frame(entrez = names(x), degree = x) %>% \n",
    "        dplyr::arrange(desc(degree))\n",
    "}"
   ]
  },
  {
   "cell_type": "code",
   "execution_count": 5,
   "metadata": {
    "collapsed": false,
    "jupyter": {
     "outputs_hidden": false
    }
   },
   "outputs": [],
   "source": [
    "gene_stress <- function(g){\n",
    "    require(igraph)\n",
    "    require(sna)\n",
    "    require(tidyverse)\n",
    "    \n",
    "    m <- g %>% as_adjacency_matrix(names = TRUE, sparse = FALSE)\n",
    "    val <- m %>% stresscent()\n",
    "    data.frame(entrez = colnames(m), stress = val)\n",
    "}"
   ]
  },
  {
   "cell_type": "markdown",
   "metadata": {},
   "source": [
    "## Annotate centralities"
   ]
  },
  {
   "cell_type": "code",
   "execution_count": 6,
   "metadata": {
    "collapsed": false,
    "jupyter": {
     "outputs_hidden": false
    }
   },
   "outputs": [
    {
     "name": "stderr",
     "output_type": "stream",
     "text": [
      "Loading required package: sna\n",
      "\n",
      "Loading required package: statnet.common\n",
      "\n",
      "\n",
      "Attaching package: ‘statnet.common’\n",
      "\n",
      "\n",
      "The following object is masked from ‘package:base’:\n",
      "\n",
      "    order\n",
      "\n",
      "\n",
      "Loading required package: network\n",
      "\n",
      "network: Classes for Relational Data\n",
      "Version 1.16.0 created on 2019-11-30.\n",
      "copyright (c) 2005, Carter T. Butts, University of California-Irvine\n",
      "                    Mark S. Handcock, University of California -- Los Angeles\n",
      "                    David R. Hunter, Penn State University\n",
      "                    Martina Morris, University of Washington\n",
      "                    Skye Bender-deMoll, University of Washington\n",
      " For citation information, type citation(\"network\").\n",
      " Type help(\"network-package\") to get started.\n",
      "\n",
      "\n",
      "\n",
      "Attaching package: ‘network’\n",
      "\n",
      "\n",
      "The following objects are masked from ‘package:igraph’:\n",
      "\n",
      "    %c%, %s%, add.edges, add.vertices, delete.edges, delete.vertices,\n",
      "    get.edge.attribute, get.edges, get.vertex.attribute, is.bipartite,\n",
      "    is.directed, list.edge.attributes, list.vertex.attributes,\n",
      "    set.edge.attribute, set.vertex.attribute\n",
      "\n",
      "\n",
      "sna: Tools for Social Network Analysis\n",
      "Version 2.5 created on 2019-12-09.\n",
      "copyright (c) 2005, Carter T. Butts, University of California-Irvine\n",
      " For citation information, type citation(\"sna\").\n",
      " Type help(package=\"sna\") to get started.\n",
      "\n",
      "\n",
      "\n",
      "Attaching package: ‘sna’\n",
      "\n",
      "\n",
      "The following objects are masked from ‘package:igraph’:\n",
      "\n",
      "    betweenness, bonpow, closeness, components, degree, dyad.census,\n",
      "    evcent, hierarchy, is.connected, neighborhood, triad.census\n",
      "\n",
      "\n"
     ]
    }
   ],
   "source": [
    "# Degree centrality\n",
    "centralities <- graph_from_data_frame(edges, directed = T, vertices = nodes) %>% \n",
    "    gene_degree()\n",
    "\n",
    "nodes_ann <- nodes %>%\n",
    "    left_join(centralities, by=\"entrez\")\n",
    "\n",
    "# Stress centrality\n",
    "centralities <- graph_from_data_frame(edges, directed = T, vertices = nodes) %>% \n",
    "    gene_stress()\n",
    "\n",
    "nodes_ann <- nodes_ann %>%\n",
    "    left_join(centralities, by=\"entrez\") %>% \n",
    "    data.frame()"
   ]
  },
  {
   "cell_type": "code",
   "execution_count": 7,
   "metadata": {},
   "outputs": [
    {
     "data": {
      "text/html": [
       "<table>\n",
       "<caption>A data.frame: 6 × 4</caption>\n",
       "<thead>\n",
       "\t<tr><th></th><th scope=col>entrez</th><th scope=col>symbol</th><th scope=col>degree</th><th scope=col>stress</th></tr>\n",
       "\t<tr><th></th><th scope=col>&lt;chr&gt;</th><th scope=col>&lt;chr&gt;</th><th scope=col>&lt;dbl&gt;</th><th scope=col>&lt;dbl&gt;</th></tr>\n",
       "</thead>\n",
       "<tbody>\n",
       "\t<tr><th scope=row>1</th><td>1958</td><td>EGR1 </td><td> 464</td><td>29049</td></tr>\n",
       "\t<tr><th scope=row>2</th><td>2355</td><td>FOSL2</td><td> 217</td><td> 7404</td></tr>\n",
       "\t<tr><th scope=row>3</th><td>405 </td><td>ARNT </td><td> 559</td><td> 7646</td></tr>\n",
       "\t<tr><th scope=row>4</th><td>4609</td><td>MYC  </td><td>1154</td><td>89851</td></tr>\n",
       "\t<tr><th scope=row>5</th><td>6239</td><td>RREB1</td><td> 319</td><td>15594</td></tr>\n",
       "\t<tr><th scope=row>6</th><td>6772</td><td>STAT1</td><td> 404</td><td>21662</td></tr>\n",
       "</tbody>\n",
       "</table>\n"
      ],
      "text/latex": [
       "A data.frame: 6 × 4\n",
       "\\begin{tabular}{r|llll}\n",
       "  & entrez & symbol & degree & stress\\\\\n",
       "  & <chr> & <chr> & <dbl> & <dbl>\\\\\n",
       "\\hline\n",
       "\t1 & 1958 & EGR1  &  464 & 29049\\\\\n",
       "\t2 & 2355 & FOSL2 &  217 &  7404\\\\\n",
       "\t3 & 405  & ARNT  &  559 &  7646\\\\\n",
       "\t4 & 4609 & MYC   & 1154 & 89851\\\\\n",
       "\t5 & 6239 & RREB1 &  319 & 15594\\\\\n",
       "\t6 & 6772 & STAT1 &  404 & 21662\\\\\n",
       "\\end{tabular}\n"
      ],
      "text/markdown": [
       "\n",
       "A data.frame: 6 × 4\n",
       "\n",
       "| <!--/--> | entrez &lt;chr&gt; | symbol &lt;chr&gt; | degree &lt;dbl&gt; | stress &lt;dbl&gt; |\n",
       "|---|---|---|---|---|\n",
       "| 1 | 1958 | EGR1  |  464 | 29049 |\n",
       "| 2 | 2355 | FOSL2 |  217 |  7404 |\n",
       "| 3 | 405  | ARNT  |  559 |  7646 |\n",
       "| 4 | 4609 | MYC   | 1154 | 89851 |\n",
       "| 5 | 6239 | RREB1 |  319 | 15594 |\n",
       "| 6 | 6772 | STAT1 |  404 | 21662 |\n",
       "\n"
      ],
      "text/plain": [
       "  entrez symbol degree stress\n",
       "1 1958   EGR1    464   29049 \n",
       "2 2355   FOSL2   217    7404 \n",
       "3 405    ARNT    559    7646 \n",
       "4 4609   MYC    1154   89851 \n",
       "5 6239   RREB1   319   15594 \n",
       "6 6772   STAT1   404   21662 "
      ]
     },
     "metadata": {},
     "output_type": "display_data"
    }
   ],
   "source": [
    "head(nodes_ann)"
   ]
  },
  {
   "cell_type": "markdown",
   "metadata": {},
   "source": [
    "## Annotate knockdown RNAseq datasets"
   ]
  },
  {
   "cell_type": "code",
   "execution_count": 8,
   "metadata": {
    "collapsed": false,
    "jupyter": {
     "outputs_hidden": false
    }
   },
   "outputs": [],
   "source": [
    "rna.list <- list(\n",
    "    mllaf4 = data.frame(suppressMessages(read_tsv(\"../data/RNAseq_tables/MLLAF4_KD/contrast_SIMM_vs_SIMA6_counts.tsv\"))) %>%\n",
    "        select(Geneid,logFC,FDR) %>%\n",
    "        rename(symbol = Geneid, MLL.AF4.logFC = logFC, MLL.AF4.FDR = FDR),\n",
    "    runx1 = data.frame(suppressMessages(read_tsv(\"../data/RNAseq_tables/RUNX1KD_and_UNC1999/contrast_NT_NT_vs_RUNX1KD_NT_counts.tsv\"))) %>%\n",
    "        select(Geneid,logFC,FDR) %>%\n",
    "        rename(symbol = Geneid, RUNX1.logFC = logFC, RUNX1.FDR = FDR),\n",
    "    unc1999 = data.frame(suppressMessages(read_tsv(\"../data/RNAseq_tables/RUNX1KD_and_UNC1999/contrast_NT_NT_vs_NT_UNC_counts.tsv\"))) %>%\n",
    "        select(Geneid,logFC,FDR) %>%\n",
    "        rename(symbol = Geneid, UNC1999.logFC = logFC, UNC1999.FDR = FDR),\n",
    "    epz = data.frame(suppressMessages(read_tsv(\"../data/RNAseq_tables/EPZ/contrast_0umEPZ_vs_2umEPZ_counts.tsv\"))) %>%\n",
    "        select(Geneid,logFC,FDR) %>%\n",
    "        rename(symbol = Geneid, EPZ.logFC = logFC, EPZ.FDR = FDR),\n",
    "    ibet = data.frame(suppressMessages(read_tsv(\"../data/RNAseq_tables/IBET/contrast_DMSO_vs_IBET-1HR_counts.tsv\"))) %>%\n",
    "        select(Geneid,logFC,FDR) %>%\n",
    "        rename(symbol = Geneid, IBET.logFC = logFC, IBET.FDR = FDR)\n",
    ")"
   ]
  },
  {
   "cell_type": "code",
   "execution_count": 9,
   "metadata": {
    "collapsed": false,
    "jupyter": {
     "outputs_hidden": false
    }
   },
   "outputs": [],
   "source": [
    "for(i in 1:length(rna.list)){\n",
    "    nodes_ann <- left_join(nodes_ann, rna.list[[i]], by=\"symbol\")\n",
    "}\n",
    "nodes_ann <- nodes_ann %>%\n",
    "    distinct()"
   ]
  },
  {
   "cell_type": "code",
   "execution_count": 10,
   "metadata": {
    "collapsed": false,
    "jupyter": {
     "outputs_hidden": false
    }
   },
   "outputs": [
    {
     "data": {
      "text/html": [
       "<table>\n",
       "<caption>A data.frame: 6 × 14</caption>\n",
       "<thead>\n",
       "\t<tr><th></th><th scope=col>entrez</th><th scope=col>symbol</th><th scope=col>degree</th><th scope=col>stress</th><th scope=col>MLL.AF4.logFC</th><th scope=col>MLL.AF4.FDR</th><th scope=col>RUNX1.logFC</th><th scope=col>RUNX1.FDR</th><th scope=col>UNC1999.logFC</th><th scope=col>UNC1999.FDR</th><th scope=col>EPZ.logFC</th><th scope=col>EPZ.FDR</th><th scope=col>IBET.logFC</th><th scope=col>IBET.FDR</th></tr>\n",
       "\t<tr><th></th><th scope=col>&lt;chr&gt;</th><th scope=col>&lt;chr&gt;</th><th scope=col>&lt;dbl&gt;</th><th scope=col>&lt;dbl&gt;</th><th scope=col>&lt;dbl&gt;</th><th scope=col>&lt;dbl&gt;</th><th scope=col>&lt;dbl&gt;</th><th scope=col>&lt;dbl&gt;</th><th scope=col>&lt;dbl&gt;</th><th scope=col>&lt;dbl&gt;</th><th scope=col>&lt;dbl&gt;</th><th scope=col>&lt;dbl&gt;</th><th scope=col>&lt;dbl&gt;</th><th scope=col>&lt;dbl&gt;</th></tr>\n",
       "</thead>\n",
       "<tbody>\n",
       "\t<tr><th scope=row>1</th><td>1958</td><td>EGR1 </td><td> 464</td><td>29049</td><td> 0.9345442</td><td>6.735290e-16</td><td>-1.0546494</td><td>4.563840e-09</td><td> 0.45937833</td><td>2.877195e-02</td><td>-0.7559783</td><td>1.372324e-05</td><td> 1.7365483</td><td> 1.391195e-46</td></tr>\n",
       "\t<tr><th scope=row>2</th><td>2355</td><td>FOSL2</td><td> 217</td><td> 7404</td><td>-0.5205269</td><td>4.731414e-25</td><td>-0.4224753</td><td>6.221770e-07</td><td> 0.09406331</td><td>4.265643e-01</td><td>-0.2676087</td><td>1.203066e-01</td><td>-0.2068572</td><td> 8.249632e-04</td></tr>\n",
       "\t<tr><th scope=row>3</th><td>405 </td><td>ARNT </td><td> 559</td><td> 7646</td><td> 0.2374961</td><td>4.145152e-04</td><td> 0.1046306</td><td>2.771233e-01</td><td>-0.08307452</td><td>4.760320e-01</td><td> 0.2652957</td><td>1.605366e-01</td><td>-0.3973892</td><td> 3.360668e-06</td></tr>\n",
       "\t<tr><th scope=row>4</th><td>4609</td><td>MYC  </td><td>1154</td><td>89851</td><td>-0.2487874</td><td>4.125718e-05</td><td>-0.1012395</td><td>4.123907e-01</td><td>-0.87270226</td><td>1.582076e-18</td><td>-0.8124231</td><td>6.623918e-08</td><td>-1.5108634</td><td>2.265482e-127</td></tr>\n",
       "\t<tr><th scope=row>5</th><td>6239</td><td>RREB1</td><td> 319</td><td>15594</td><td> 0.2578800</td><td>6.073601e-06</td><td> 0.1526835</td><td>3.948804e-02</td><td> 0.21473278</td><td>4.552598e-03</td><td>-0.1876350</td><td>2.789407e-01</td><td>-0.2671828</td><td> 1.356396e-05</td></tr>\n",
       "\t<tr><th scope=row>6</th><td>6772</td><td>STAT1</td><td> 404</td><td>21662</td><td> 0.2396495</td><td>6.305926e-04</td><td>-0.1175383</td><td>1.256426e-01</td><td> 0.19241110</td><td>1.124953e-02</td><td>-0.2185313</td><td>2.135825e-01</td><td> 0.6186133</td><td> 2.332276e-25</td></tr>\n",
       "</tbody>\n",
       "</table>\n"
      ],
      "text/latex": [
       "A data.frame: 6 × 14\n",
       "\\begin{tabular}{r|llllllllllllll}\n",
       "  & entrez & symbol & degree & stress & MLL.AF4.logFC & MLL.AF4.FDR & RUNX1.logFC & RUNX1.FDR & UNC1999.logFC & UNC1999.FDR & EPZ.logFC & EPZ.FDR & IBET.logFC & IBET.FDR\\\\\n",
       "  & <chr> & <chr> & <dbl> & <dbl> & <dbl> & <dbl> & <dbl> & <dbl> & <dbl> & <dbl> & <dbl> & <dbl> & <dbl> & <dbl>\\\\\n",
       "\\hline\n",
       "\t1 & 1958 & EGR1  &  464 & 29049 &  0.9345442 & 6.735290e-16 & -1.0546494 & 4.563840e-09 &  0.45937833 & 2.877195e-02 & -0.7559783 & 1.372324e-05 &  1.7365483 &  1.391195e-46\\\\\n",
       "\t2 & 2355 & FOSL2 &  217 &  7404 & -0.5205269 & 4.731414e-25 & -0.4224753 & 6.221770e-07 &  0.09406331 & 4.265643e-01 & -0.2676087 & 1.203066e-01 & -0.2068572 &  8.249632e-04\\\\\n",
       "\t3 & 405  & ARNT  &  559 &  7646 &  0.2374961 & 4.145152e-04 &  0.1046306 & 2.771233e-01 & -0.08307452 & 4.760320e-01 &  0.2652957 & 1.605366e-01 & -0.3973892 &  3.360668e-06\\\\\n",
       "\t4 & 4609 & MYC   & 1154 & 89851 & -0.2487874 & 4.125718e-05 & -0.1012395 & 4.123907e-01 & -0.87270226 & 1.582076e-18 & -0.8124231 & 6.623918e-08 & -1.5108634 & 2.265482e-127\\\\\n",
       "\t5 & 6239 & RREB1 &  319 & 15594 &  0.2578800 & 6.073601e-06 &  0.1526835 & 3.948804e-02 &  0.21473278 & 4.552598e-03 & -0.1876350 & 2.789407e-01 & -0.2671828 &  1.356396e-05\\\\\n",
       "\t6 & 6772 & STAT1 &  404 & 21662 &  0.2396495 & 6.305926e-04 & -0.1175383 & 1.256426e-01 &  0.19241110 & 1.124953e-02 & -0.2185313 & 2.135825e-01 &  0.6186133 &  2.332276e-25\\\\\n",
       "\\end{tabular}\n"
      ],
      "text/markdown": [
       "\n",
       "A data.frame: 6 × 14\n",
       "\n",
       "| <!--/--> | entrez &lt;chr&gt; | symbol &lt;chr&gt; | degree &lt;dbl&gt; | stress &lt;dbl&gt; | MLL.AF4.logFC &lt;dbl&gt; | MLL.AF4.FDR &lt;dbl&gt; | RUNX1.logFC &lt;dbl&gt; | RUNX1.FDR &lt;dbl&gt; | UNC1999.logFC &lt;dbl&gt; | UNC1999.FDR &lt;dbl&gt; | EPZ.logFC &lt;dbl&gt; | EPZ.FDR &lt;dbl&gt; | IBET.logFC &lt;dbl&gt; | IBET.FDR &lt;dbl&gt; |\n",
       "|---|---|---|---|---|---|---|---|---|---|---|---|---|---|---|\n",
       "| 1 | 1958 | EGR1  |  464 | 29049 |  0.9345442 | 6.735290e-16 | -1.0546494 | 4.563840e-09 |  0.45937833 | 2.877195e-02 | -0.7559783 | 1.372324e-05 |  1.7365483 |  1.391195e-46 |\n",
       "| 2 | 2355 | FOSL2 |  217 |  7404 | -0.5205269 | 4.731414e-25 | -0.4224753 | 6.221770e-07 |  0.09406331 | 4.265643e-01 | -0.2676087 | 1.203066e-01 | -0.2068572 |  8.249632e-04 |\n",
       "| 3 | 405  | ARNT  |  559 |  7646 |  0.2374961 | 4.145152e-04 |  0.1046306 | 2.771233e-01 | -0.08307452 | 4.760320e-01 |  0.2652957 | 1.605366e-01 | -0.3973892 |  3.360668e-06 |\n",
       "| 4 | 4609 | MYC   | 1154 | 89851 | -0.2487874 | 4.125718e-05 | -0.1012395 | 4.123907e-01 | -0.87270226 | 1.582076e-18 | -0.8124231 | 6.623918e-08 | -1.5108634 | 2.265482e-127 |\n",
       "| 5 | 6239 | RREB1 |  319 | 15594 |  0.2578800 | 6.073601e-06 |  0.1526835 | 3.948804e-02 |  0.21473278 | 4.552598e-03 | -0.1876350 | 2.789407e-01 | -0.2671828 |  1.356396e-05 |\n",
       "| 6 | 6772 | STAT1 |  404 | 21662 |  0.2396495 | 6.305926e-04 | -0.1175383 | 1.256426e-01 |  0.19241110 | 1.124953e-02 | -0.2185313 | 2.135825e-01 |  0.6186133 |  2.332276e-25 |\n",
       "\n"
      ],
      "text/plain": [
       "  entrez symbol degree stress MLL.AF4.logFC MLL.AF4.FDR  RUNX1.logFC\n",
       "1 1958   EGR1    464   29049   0.9345442    6.735290e-16 -1.0546494 \n",
       "2 2355   FOSL2   217    7404  -0.5205269    4.731414e-25 -0.4224753 \n",
       "3 405    ARNT    559    7646   0.2374961    4.145152e-04  0.1046306 \n",
       "4 4609   MYC    1154   89851  -0.2487874    4.125718e-05 -0.1012395 \n",
       "5 6239   RREB1   319   15594   0.2578800    6.073601e-06  0.1526835 \n",
       "6 6772   STAT1   404   21662   0.2396495    6.305926e-04 -0.1175383 \n",
       "  RUNX1.FDR    UNC1999.logFC UNC1999.FDR  EPZ.logFC  EPZ.FDR      IBET.logFC\n",
       "1 4.563840e-09  0.45937833   2.877195e-02 -0.7559783 1.372324e-05  1.7365483\n",
       "2 6.221770e-07  0.09406331   4.265643e-01 -0.2676087 1.203066e-01 -0.2068572\n",
       "3 2.771233e-01 -0.08307452   4.760320e-01  0.2652957 1.605366e-01 -0.3973892\n",
       "4 4.123907e-01 -0.87270226   1.582076e-18 -0.8124231 6.623918e-08 -1.5108634\n",
       "5 3.948804e-02  0.21473278   4.552598e-03 -0.1876350 2.789407e-01 -0.2671828\n",
       "6 1.256426e-01  0.19241110   1.124953e-02 -0.2185313 2.135825e-01  0.6186133\n",
       "  IBET.FDR     \n",
       "1  1.391195e-46\n",
       "2  8.249632e-04\n",
       "3  3.360668e-06\n",
       "4 2.265482e-127\n",
       "5  1.356396e-05\n",
       "6  2.332276e-25"
      ]
     },
     "metadata": {},
     "output_type": "display_data"
    }
   ],
   "source": [
    "head(nodes_ann)"
   ]
  },
  {
   "cell_type": "markdown",
   "metadata": {},
   "source": [
    "## Annotate CRISPR screen (Tzlepis et al 2016, supplementary data)"
   ]
  },
  {
   "cell_type": "code",
   "execution_count": 11,
   "metadata": {
    "collapsed": false,
    "jupyter": {
     "outputs_hidden": false
    }
   },
   "outputs": [],
   "source": [
    "genes.dropout.universe <- suppressMessages(read_csv(\"../data/CRISPR_dropout_Tzelepis/CRISPR_Dropout_2016_10_18/GeneUniverse.csv\"))[,c(1)] %>%\n",
    "    unlist() %>%\n",
    "    unique() \n",
    "genes.dropout.MOLM13 <- suppressMessages(read_csv(\"../data/CRISPR_dropout_Tzelepis/CRISPR_Dropout_2016_10_18/Summary_FDR_10.csv\"))[,c(2)] %>%\n",
    "    unlist() %>%\n",
    "    unique() \n",
    "genes.dropout.MV411 <- suppressMessages(read_csv(\"../data/CRISPR_dropout_Tzelepis/CRISPR_Dropout_2016_10_18/Summary_FDR_10.csv\"))[,c(3)] %>%\n",
    "    unlist() %>%\n",
    "    unique() \n",
    "genes.dropout.HL60 <- suppressMessages(read_csv(\"../data/CRISPR_dropout_Tzelepis/CRISPR_Dropout_2016_10_18/Summary_FDR_10.csv\"))[,c(4)] %>%\n",
    "    unlist() %>%\n",
    "    unique() \n",
    "genes.dropout.OCIAML2 <- suppressMessages(read_csv(\"../data/CRISPR_dropout_Tzelepis/CRISPR_Dropout_2016_10_18/Summary_FDR_10.csv\"))[,c(5)] %>%\n",
    "    unlist() %>%\n",
    "    unique() \n",
    "genes.dropout.OCIAML3 <- suppressMessages(read_csv(\"../data/CRISPR_dropout_Tzelepis/CRISPR_Dropout_2016_10_18/Summary_FDR_10.csv\"))[,c(6)] %>%\n",
    "    unlist() %>%\n",
    "    unique() \n",
    "genes.dropout.HT29 <- suppressMessages(read_csv(\"../data/CRISPR_dropout_Tzelepis/CRISPR_Dropout_2016_10_18/Summary_FDR_10.csv\"))[,c(7)] %>%\n",
    "    unlist() %>%\n",
    "    unique() \n",
    "genes.dropout.HT1080 <- suppressMessages(read_csv(\"../data/CRISPR_dropout_Tzelepis/CRISPR_Dropout_2016_10_18/Summary_FDR_10.csv\"))[,c(8)] %>%\n",
    "    unlist() %>%\n",
    "    unique() "
   ]
  },
  {
   "cell_type": "code",
   "execution_count": 12,
   "metadata": {},
   "outputs": [],
   "source": [
    "nodes.dropout <- nodes_ann[unlist(nodes_ann$symbol) %in% genes.dropout.universe,1:2]\n",
    "\n",
    "nodes.dropout$MOLM13 <- unlist(nodes.dropout[,2]) %in% genes.dropout.MOLM13\n",
    "nodes.dropout$MV411 <- unlist(nodes.dropout[,2]) %in% genes.dropout.MV411\n",
    "nodes.dropout$HL60 <- unlist(nodes.dropout[,2]) %in% genes.dropout.HL60\n",
    "nodes.dropout$OCIAML2 <- unlist(nodes.dropout[,2]) %in% genes.dropout.OCIAML2\n",
    "nodes.dropout$OCIAML3 <- unlist(nodes.dropout[,2]) %in% genes.dropout.OCIAML3\n",
    "nodes.dropout$HT29 <- unlist(nodes.dropout[,2]) %in% genes.dropout.HT29\n",
    "nodes.dropout$HT1080 <- unlist(nodes.dropout[,2]) %in% genes.dropout.HT1080"
   ]
  },
  {
   "cell_type": "code",
   "execution_count": 13,
   "metadata": {
    "collapsed": false,
    "jupyter": {
     "outputs_hidden": false
    }
   },
   "outputs": [],
   "source": [
    "nodes.dropout.coreGenes <- nodes.dropout[nodes.dropout$MOLM13 & nodes.dropout$MV411 & !nodes.dropout$HT29 & !nodes.dropout$HT1080,]\n",
    "nodes.dropout.AF4 <- nodes.dropout[!nodes.dropout$MOLM13 & nodes.dropout$MV411 & !nodes.dropout$HT29 & !nodes.dropout$HT1080,]\n",
    "nodes.dropout.AF9 <- nodes.dropout[nodes.dropout$MOLM13 & !nodes.dropout$MV411 & !nodes.dropout$HT29 & !nodes.dropout$HT1080,]\n",
    "nodes.dropout.loose <- nodes.dropout[nodes.dropout$MOLM13 | nodes.dropout$MV411,]"
   ]
  },
  {
   "cell_type": "code",
   "execution_count": 14,
   "metadata": {
    "collapsed": false,
    "jupyter": {
     "outputs_hidden": false
    }
   },
   "outputs": [],
   "source": [
    "nodes.dropout$category <- rep(\"non-dropout\", nrow(nodes.dropout))\n",
    "nodes.dropout$category[nodes.dropout$symbol %in% nodes.dropout.loose$symbol] <- \"non-leukemia-specific dropout\"\n",
    "nodes.dropout$category[nodes.dropout$symbol %in% nodes.dropout.coreGenes$symbol] <- \"AF4 & AF9\"\n",
    "nodes.dropout$category[nodes.dropout$symbol %in% nodes.dropout.AF4$symbol] <- \"AF4 specific\"\n",
    "nodes.dropout$category[nodes.dropout$symbol %in% nodes.dropout.AF9$symbol] <- \"AF9 specific\"\n",
    "nodes.dropout$category <- factor(nodes.dropout$category, levels=c(\"non-dropout\", \"non-leukemia-specific dropout\", \"AF9 specific\", \"AF4 specific\", \"AF4 & AF9\"))\n",
    "\n",
    "nodes.dropout <- nodes.dropout %>%\n",
    "    select(symbol, category) %>%\n",
    "    rename(Dropout_class = category)"
   ]
  },
  {
   "cell_type": "code",
   "execution_count": 15,
   "metadata": {
    "collapsed": false,
    "jupyter": {
     "outputs_hidden": false
    }
   },
   "outputs": [
    {
     "data": {
      "text/html": [
       "<table>\n",
       "<caption>A data.frame: 6 × 15</caption>\n",
       "<thead>\n",
       "\t<tr><th></th><th scope=col>entrez</th><th scope=col>symbol</th><th scope=col>degree</th><th scope=col>stress</th><th scope=col>MLL.AF4.logFC</th><th scope=col>MLL.AF4.FDR</th><th scope=col>RUNX1.logFC</th><th scope=col>RUNX1.FDR</th><th scope=col>UNC1999.logFC</th><th scope=col>UNC1999.FDR</th><th scope=col>EPZ.logFC</th><th scope=col>EPZ.FDR</th><th scope=col>IBET.logFC</th><th scope=col>IBET.FDR</th><th scope=col>Dropout_class</th></tr>\n",
       "\t<tr><th></th><th scope=col>&lt;chr&gt;</th><th scope=col>&lt;chr&gt;</th><th scope=col>&lt;dbl&gt;</th><th scope=col>&lt;dbl&gt;</th><th scope=col>&lt;dbl&gt;</th><th scope=col>&lt;dbl&gt;</th><th scope=col>&lt;dbl&gt;</th><th scope=col>&lt;dbl&gt;</th><th scope=col>&lt;dbl&gt;</th><th scope=col>&lt;dbl&gt;</th><th scope=col>&lt;dbl&gt;</th><th scope=col>&lt;dbl&gt;</th><th scope=col>&lt;dbl&gt;</th><th scope=col>&lt;dbl&gt;</th><th scope=col>&lt;fct&gt;</th></tr>\n",
       "</thead>\n",
       "<tbody>\n",
       "\t<tr><th scope=row>1</th><td>1958</td><td>EGR1 </td><td> 464</td><td>29049</td><td> 0.9345442</td><td>6.735290e-16</td><td>-1.0546494</td><td>4.563840e-09</td><td> 0.45937833</td><td>2.877195e-02</td><td>-0.7559783</td><td>1.372324e-05</td><td> 1.7365483</td><td> 1.391195e-46</td><td>non-dropout                  </td></tr>\n",
       "\t<tr><th scope=row>2</th><td>2355</td><td>FOSL2</td><td> 217</td><td> 7404</td><td>-0.5205269</td><td>4.731414e-25</td><td>-0.4224753</td><td>6.221770e-07</td><td> 0.09406331</td><td>4.265643e-01</td><td>-0.2676087</td><td>1.203066e-01</td><td>-0.2068572</td><td> 8.249632e-04</td><td>non-dropout                  </td></tr>\n",
       "\t<tr><th scope=row>3</th><td>405 </td><td>ARNT </td><td> 559</td><td> 7646</td><td> 0.2374961</td><td>4.145152e-04</td><td> 0.1046306</td><td>2.771233e-01</td><td>-0.08307452</td><td>4.760320e-01</td><td> 0.2652957</td><td>1.605366e-01</td><td>-0.3973892</td><td> 3.360668e-06</td><td>non-leukemia-specific dropout</td></tr>\n",
       "\t<tr><th scope=row>4</th><td>4609</td><td>MYC  </td><td>1154</td><td>89851</td><td>-0.2487874</td><td>4.125718e-05</td><td>-0.1012395</td><td>4.123907e-01</td><td>-0.87270226</td><td>1.582076e-18</td><td>-0.8124231</td><td>6.623918e-08</td><td>-1.5108634</td><td>2.265482e-127</td><td>non-leukemia-specific dropout</td></tr>\n",
       "\t<tr><th scope=row>5</th><td>6239</td><td>RREB1</td><td> 319</td><td>15594</td><td> 0.2578800</td><td>6.073601e-06</td><td> 0.1526835</td><td>3.948804e-02</td><td> 0.21473278</td><td>4.552598e-03</td><td>-0.1876350</td><td>2.789407e-01</td><td>-0.2671828</td><td> 1.356396e-05</td><td>non-dropout                  </td></tr>\n",
       "\t<tr><th scope=row>6</th><td>6772</td><td>STAT1</td><td> 404</td><td>21662</td><td> 0.2396495</td><td>6.305926e-04</td><td>-0.1175383</td><td>1.256426e-01</td><td> 0.19241110</td><td>1.124953e-02</td><td>-0.2185313</td><td>2.135825e-01</td><td> 0.6186133</td><td> 2.332276e-25</td><td>non-dropout                  </td></tr>\n",
       "</tbody>\n",
       "</table>\n"
      ],
      "text/latex": [
       "A data.frame: 6 × 15\n",
       "\\begin{tabular}{r|lllllllllllllll}\n",
       "  & entrez & symbol & degree & stress & MLL.AF4.logFC & MLL.AF4.FDR & RUNX1.logFC & RUNX1.FDR & UNC1999.logFC & UNC1999.FDR & EPZ.logFC & EPZ.FDR & IBET.logFC & IBET.FDR & Dropout\\_class\\\\\n",
       "  & <chr> & <chr> & <dbl> & <dbl> & <dbl> & <dbl> & <dbl> & <dbl> & <dbl> & <dbl> & <dbl> & <dbl> & <dbl> & <dbl> & <fct>\\\\\n",
       "\\hline\n",
       "\t1 & 1958 & EGR1  &  464 & 29049 &  0.9345442 & 6.735290e-16 & -1.0546494 & 4.563840e-09 &  0.45937833 & 2.877195e-02 & -0.7559783 & 1.372324e-05 &  1.7365483 &  1.391195e-46 & non-dropout                  \\\\\n",
       "\t2 & 2355 & FOSL2 &  217 &  7404 & -0.5205269 & 4.731414e-25 & -0.4224753 & 6.221770e-07 &  0.09406331 & 4.265643e-01 & -0.2676087 & 1.203066e-01 & -0.2068572 &  8.249632e-04 & non-dropout                  \\\\\n",
       "\t3 & 405  & ARNT  &  559 &  7646 &  0.2374961 & 4.145152e-04 &  0.1046306 & 2.771233e-01 & -0.08307452 & 4.760320e-01 &  0.2652957 & 1.605366e-01 & -0.3973892 &  3.360668e-06 & non-leukemia-specific dropout\\\\\n",
       "\t4 & 4609 & MYC   & 1154 & 89851 & -0.2487874 & 4.125718e-05 & -0.1012395 & 4.123907e-01 & -0.87270226 & 1.582076e-18 & -0.8124231 & 6.623918e-08 & -1.5108634 & 2.265482e-127 & non-leukemia-specific dropout\\\\\n",
       "\t5 & 6239 & RREB1 &  319 & 15594 &  0.2578800 & 6.073601e-06 &  0.1526835 & 3.948804e-02 &  0.21473278 & 4.552598e-03 & -0.1876350 & 2.789407e-01 & -0.2671828 &  1.356396e-05 & non-dropout                  \\\\\n",
       "\t6 & 6772 & STAT1 &  404 & 21662 &  0.2396495 & 6.305926e-04 & -0.1175383 & 1.256426e-01 &  0.19241110 & 1.124953e-02 & -0.2185313 & 2.135825e-01 &  0.6186133 &  2.332276e-25 & non-dropout                  \\\\\n",
       "\\end{tabular}\n"
      ],
      "text/markdown": [
       "\n",
       "A data.frame: 6 × 15\n",
       "\n",
       "| <!--/--> | entrez &lt;chr&gt; | symbol &lt;chr&gt; | degree &lt;dbl&gt; | stress &lt;dbl&gt; | MLL.AF4.logFC &lt;dbl&gt; | MLL.AF4.FDR &lt;dbl&gt; | RUNX1.logFC &lt;dbl&gt; | RUNX1.FDR &lt;dbl&gt; | UNC1999.logFC &lt;dbl&gt; | UNC1999.FDR &lt;dbl&gt; | EPZ.logFC &lt;dbl&gt; | EPZ.FDR &lt;dbl&gt; | IBET.logFC &lt;dbl&gt; | IBET.FDR &lt;dbl&gt; | Dropout_class &lt;fct&gt; |\n",
       "|---|---|---|---|---|---|---|---|---|---|---|---|---|---|---|---|\n",
       "| 1 | 1958 | EGR1  |  464 | 29049 |  0.9345442 | 6.735290e-16 | -1.0546494 | 4.563840e-09 |  0.45937833 | 2.877195e-02 | -0.7559783 | 1.372324e-05 |  1.7365483 |  1.391195e-46 | non-dropout                   |\n",
       "| 2 | 2355 | FOSL2 |  217 |  7404 | -0.5205269 | 4.731414e-25 | -0.4224753 | 6.221770e-07 |  0.09406331 | 4.265643e-01 | -0.2676087 | 1.203066e-01 | -0.2068572 |  8.249632e-04 | non-dropout                   |\n",
       "| 3 | 405  | ARNT  |  559 |  7646 |  0.2374961 | 4.145152e-04 |  0.1046306 | 2.771233e-01 | -0.08307452 | 4.760320e-01 |  0.2652957 | 1.605366e-01 | -0.3973892 |  3.360668e-06 | non-leukemia-specific dropout |\n",
       "| 4 | 4609 | MYC   | 1154 | 89851 | -0.2487874 | 4.125718e-05 | -0.1012395 | 4.123907e-01 | -0.87270226 | 1.582076e-18 | -0.8124231 | 6.623918e-08 | -1.5108634 | 2.265482e-127 | non-leukemia-specific dropout |\n",
       "| 5 | 6239 | RREB1 |  319 | 15594 |  0.2578800 | 6.073601e-06 |  0.1526835 | 3.948804e-02 |  0.21473278 | 4.552598e-03 | -0.1876350 | 2.789407e-01 | -0.2671828 |  1.356396e-05 | non-dropout                   |\n",
       "| 6 | 6772 | STAT1 |  404 | 21662 |  0.2396495 | 6.305926e-04 | -0.1175383 | 1.256426e-01 |  0.19241110 | 1.124953e-02 | -0.2185313 | 2.135825e-01 |  0.6186133 |  2.332276e-25 | non-dropout                   |\n",
       "\n"
      ],
      "text/plain": [
       "  entrez symbol degree stress MLL.AF4.logFC MLL.AF4.FDR  RUNX1.logFC\n",
       "1 1958   EGR1    464   29049   0.9345442    6.735290e-16 -1.0546494 \n",
       "2 2355   FOSL2   217    7404  -0.5205269    4.731414e-25 -0.4224753 \n",
       "3 405    ARNT    559    7646   0.2374961    4.145152e-04  0.1046306 \n",
       "4 4609   MYC    1154   89851  -0.2487874    4.125718e-05 -0.1012395 \n",
       "5 6239   RREB1   319   15594   0.2578800    6.073601e-06  0.1526835 \n",
       "6 6772   STAT1   404   21662   0.2396495    6.305926e-04 -0.1175383 \n",
       "  RUNX1.FDR    UNC1999.logFC UNC1999.FDR  EPZ.logFC  EPZ.FDR      IBET.logFC\n",
       "1 4.563840e-09  0.45937833   2.877195e-02 -0.7559783 1.372324e-05  1.7365483\n",
       "2 6.221770e-07  0.09406331   4.265643e-01 -0.2676087 1.203066e-01 -0.2068572\n",
       "3 2.771233e-01 -0.08307452   4.760320e-01  0.2652957 1.605366e-01 -0.3973892\n",
       "4 4.123907e-01 -0.87270226   1.582076e-18 -0.8124231 6.623918e-08 -1.5108634\n",
       "5 3.948804e-02  0.21473278   4.552598e-03 -0.1876350 2.789407e-01 -0.2671828\n",
       "6 1.256426e-01  0.19241110   1.124953e-02 -0.2185313 2.135825e-01  0.6186133\n",
       "  IBET.FDR      Dropout_class                \n",
       "1  1.391195e-46 non-dropout                  \n",
       "2  8.249632e-04 non-dropout                  \n",
       "3  3.360668e-06 non-leukemia-specific dropout\n",
       "4 2.265482e-127 non-leukemia-specific dropout\n",
       "5  1.356396e-05 non-dropout                  \n",
       "6  2.332276e-25 non-dropout                  "
      ]
     },
     "metadata": {},
     "output_type": "display_data"
    }
   ],
   "source": [
    "nodes_ann <- nodes_ann %>%\n",
    "    left_join(nodes.dropout, by=\"symbol\") %>%\n",
    "    distinct()\n",
    "\n",
    "head(nodes_ann)"
   ]
  },
  {
   "cell_type": "markdown",
   "metadata": {},
   "source": [
    "# Graph creation and data export"
   ]
  },
  {
   "cell_type": "code",
   "execution_count": 16,
   "metadata": {},
   "outputs": [],
   "source": [
    "g <- graph_from_data_frame(edges, directed = T, vertices = nodes_ann)"
   ]
  },
  {
   "cell_type": "code",
   "execution_count": 17,
   "metadata": {
    "collapsed": false,
    "jupyter": {
     "outputs_hidden": false
    }
   },
   "outputs": [],
   "source": [
    "write_graph(g, paste0(out, \"AggregatedGraph_MLL-AF4.gml\"), \"gml\")"
   ]
  },
  {
   "cell_type": "code",
   "execution_count": 18,
   "metadata": {
    "collapsed": false,
    "jupyter": {
     "outputs_hidden": false
    }
   },
   "outputs": [],
   "source": [
    "g %>%\n",
    "    igraph::as_data_frame() %>%\n",
    "    write_tsv(paste0(out, \"AggregatedGraph_MLL-AF4_edges.tsv\"))\n",
    "\n",
    "g %>%\n",
    "    igraph::as_data_frame(what = \"vertices\") %>%\n",
    "    write_tsv(paste0(out, \"AggregatedGraph_MLL-AF4_nodes.tsv\"))"
   ]
  },
  {
   "cell_type": "code",
   "execution_count": 19,
   "metadata": {},
   "outputs": [
    {
     "data": {
      "text/plain": [
       "IGRAPH 38fc09e DN-- 3850 16893 -- \n",
       "+ attr: name (v/c), symbol (v/c), degree (v/n), stress (v/n),\n",
       "| MLL.AF4.logFC (v/n), MLL.AF4.FDR (v/n), RUNX1.logFC (v/n), RUNX1.FDR\n",
       "| (v/n), UNC1999.logFC (v/n), UNC1999.FDR (v/n), EPZ.logFC (v/n),\n",
       "| EPZ.FDR (v/n), IBET.logFC (v/n), IBET.FDR (v/n), Dropout_class (v/c)\n",
       "+ edges from 38fc09e (vertex names):\n",
       " [1] 1958->100       2355->10007     405 ->10007     4609->10007    \n",
       " [5] 6239->10007     6772->10007     1385->100093630 1958->100113407\n",
       " [9] 2355->100113407 2908->100113407 2969->100113407 3205->100113407\n",
       "[13] 4005->100113407 4150->100113407 4211->100113407 4800->100113407\n",
       "[17] 6239->100113407 1875->100128191 2309->100128191 4205->100128191\n",
       "+ ... omitted several edges"
      ]
     },
     "metadata": {},
     "output_type": "display_data"
    }
   ],
   "source": [
    "g"
   ]
  }
 ],
 "metadata": {
  "anaconda-cloud": {},
  "kernelspec": {
   "display_name": "R 3.4",
   "language": "R",
   "name": "ir34"
  },
  "language_info": {
   "codemirror_mode": "r",
   "file_extension": ".r",
   "mimetype": "text/x-r-source",
   "name": "R",
   "pygments_lexer": "r",
   "version": "3.6.1"
  },
  "toc": {
   "base_numbering": 1,
   "nav_menu": {},
   "number_sections": true,
   "sideBar": true,
   "skip_h1_title": true,
   "title_cell": "Table of Contents",
   "title_sidebar": "Contents",
   "toc_cell": false,
   "toc_position": {},
   "toc_section_display": true,
   "toc_window_display": false
  }
 },
 "nbformat": 4,
 "nbformat_minor": 4
}
