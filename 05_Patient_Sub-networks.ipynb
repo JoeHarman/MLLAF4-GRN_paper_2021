{
 "cells": [
  {
   "cell_type": "markdown",
   "metadata": {},
   "source": [
    "# Generating patient sub-networks\n",
    "\n",
    "Here we are taking published RNA-seq datasets from three publications:\n",
    "\n",
    "* AML patients - *Gilliland et al. 2013*\n",
    "* ALL patients - *Agraz-Doblas et al. 2019*\n",
    "* FBM cells - *O’byrne et al. 2019*\n",
    "\n",
    "The approach we use is to filter the MLL-AF4 KD RNA-seq data we use for constructing an MLL-AF4 GRN, and filtering this by expressed genes on a patient-to-patient basis. We then rerun the GRN workflow, as in 01_Build_Network.ipynb."
   ]
  },
  {
   "cell_type": "markdown",
   "metadata": {},
   "source": [
    "## Setup"
   ]
  },
  {
   "cell_type": "code",
   "execution_count": 2,
   "metadata": {
    "collapsed": false,
    "jupyter": {
     "outputs_hidden": false
    }
   },
   "outputs": [],
   "source": [
    "library(tidyverse)\n",
    "library(GenomicRanges)\n",
    "library(annotables)\n",
    "library(GeneNetworkBuilder)"
   ]
  },
  {
   "cell_type": "markdown",
   "metadata": {},
   "source": [
    "## Functions"
   ]
  },
  {
   "cell_type": "code",
   "execution_count": 3,
   "metadata": {
    "collapsed": false,
    "jupyter": {
     "outputs_hidden": false
    }
   },
   "outputs": [],
   "source": [
    "# Prepare gene table for lookup joins\n",
    "hg38.lookup <- grch38 %>%\n",
    "    mutate(entrez = as.character(entrez)) %>%\n",
    "    select(ensgene, entrez, symbol) %>%\n",
    "    filter(entrez != \"<NA>\")"
   ]
  },
  {
   "cell_type": "markdown",
   "metadata": {},
   "source": [
    "# Importing datasets for MLL-AF4 GRN workflow"
   ]
  },
  {
   "cell_type": "code",
   "execution_count": 4,
   "metadata": {
    "collapsed": false,
    "jupyter": {
     "outputs_hidden": false
    }
   },
   "outputs": [
    {
     "name": "stderr",
     "output_type": "stream",
     "text": [
      "Parsed with column specification:\n",
      "cols(\n",
      "  from = \u001b[32mcol_double()\u001b[39m,\n",
      "  to = \u001b[32mcol_double()\u001b[39m\n",
      ")\n",
      "\n"
     ]
    }
   ],
   "source": [
    "Chip.filePath <- \"../data/ChIPseq_tables/SEM_MLL-AF4_binding_table.txt\"\n",
    "binding.table <- read_tsv(Chip.filePath) %>% # cc specifies 2 columns as character!\n",
    "    as.data.frame()"
   ]
  },
  {
   "cell_type": "code",
   "execution_count": 5,
   "metadata": {},
   "outputs": [
    {
     "name": "stderr",
     "output_type": "stream",
     "text": [
      "Parsed with column specification:\n",
      "cols(\n",
      "  Geneid = \u001b[31mcol_character()\u001b[39m,\n",
      "  Length = \u001b[32mcol_double()\u001b[39m,\n",
      "  logFC = \u001b[32mcol_double()\u001b[39m,\n",
      "  logCPM = \u001b[32mcol_double()\u001b[39m,\n",
      "  LR = \u001b[32mcol_double()\u001b[39m,\n",
      "  PValue = \u001b[32mcol_double()\u001b[39m,\n",
      "  FDR = \u001b[32mcol_double()\u001b[39m,\n",
      "  SIMA6_1 = \u001b[32mcol_double()\u001b[39m,\n",
      "  SIMA6_2 = \u001b[32mcol_double()\u001b[39m,\n",
      "  SIMA6_3 = \u001b[32mcol_double()\u001b[39m,\n",
      "  SIMM_1 = \u001b[32mcol_double()\u001b[39m,\n",
      "  SIMM_2 = \u001b[32mcol_double()\u001b[39m,\n",
      "  SIMM_3 = \u001b[32mcol_double()\u001b[39m\n",
      ")\n",
      "\n"
     ]
    }
   ],
   "source": [
    "deg.filePath <- \"../data/RNAseq_tables_hg38/MLLAF4_KD/contrast_SIMM_vs_SIMA6_counts.tsv\"\n",
    "de.genes <- read_tsv(deg.filePath) %>%\n",
    "    select(Geneid, logFC, FDR)"
   ]
  },
  {
   "cell_type": "code",
   "execution_count": 6,
   "metadata": {},
   "outputs": [],
   "source": [
    "data(\"hs.interactionmap\") # The basis for all network formation"
   ]
  },
  {
   "cell_type": "markdown",
   "metadata": {},
   "source": [
    "# Importing patient datasets\n",
    "\n",
    "log transforming as necessary\n"
   ]
  },
  {
   "cell_type": "code",
   "execution_count": 7,
   "metadata": {},
   "outputs": [],
   "source": [
    "# Expression data\n",
    "df.laml <- suppressMessages(read_tsv(\"../Patient integration update - Nov2019/data/LAML_RNAseq_log2tpm.tsv\")) %>%\n",
    "    column_to_rownames(\"GeneID\") %>%\n",
    "    filter(rowSums(.) > (ncol(.) * 0.05))\n",
    "df.men <- suppressMessages(read_csv(\"../Patient integration update - Nov2019/data/Men_TPM.csv\")) %>%\n",
    "    column_to_rownames(\"GeneID\") %>%\n",
    "    filter(rowSums(.) > (ncol(.) * 0.05))\n",
    "df.ox_fbm <- suppressMessages(read_csv(\"../Patient integration update - Nov2019/data/OX_FBM_TPM.csv\")) %>%\n",
    "    column_to_rownames(\"GeneID\") %>%\n",
    "    filter(rowSums(.) > (ncol(.) * 0.05))\n",
    "\n",
    "# Log transform\n",
    "df.men <- log2(df.men + 1)\n",
    "df.ox_fbm <- log2(df.ox_fbm + 1)\n",
    "\n",
    "# Annotation tables\n",
    "ann.laml <- suppressMessages(read_tsv(\"../Patient integration update - Nov2019/data/LAML_RNAseq_anno.tsv\"))\n",
    "ann.men <- suppressMessages(read_csv(\"../Patient integration update - Nov2019/data/Men_anno.csv\"))\n",
    "ann.ox_fbm <- suppressMessages(read_csv(\"../Patient integration update - Nov2019/data/OX_FBM_anno.csv\"))\n",
    "\n",
    "# Combining expression tables\n",
    "df.list <- list(\n",
    "    LAML = df.laml,\n",
    "    Menendez = df.men,\n",
    "    OX_FBM = df.ox_fbm\n",
    ")\n"
   ]
  },
  {
   "cell_type": "markdown",
   "metadata": {},
   "source": [
    "Note - due to an update to hg19, the official gene name MLL has changed to KMT2A. This occasionally results in conflicts between datasets that were generated using different versions of hg19 (or hg38). Here we are ensuring the name is consistent across datasets."
   ]
  },
  {
   "cell_type": "code",
   "execution_count": 8,
   "metadata": {},
   "outputs": [],
   "source": [
    "rownames(df.list[[1]])[rownames(df.list[[1]]) == \"MLL\"] <- \"KMT2A\"\n",
    "rownames(df.list[[2]])[rownames(df.list[[2]]) == \"MLL\"] <- \"KMT2A\"\n",
    "rownames(df.list[[3]])[rownames(df.list[[3]]) == \"MLL\"] <- \"KMT2A\""
   ]
  },
  {
   "cell_type": "code",
   "execution_count": 9,
   "metadata": {},
   "outputs": [
    {
     "name": "stderr",
     "output_type": "stream",
     "text": [
      "No id variables; using all as measure variables\n",
      "\n",
      "No id variables; using all as measure variables\n",
      "\n",
      "No id variables; using all as measure variables\n",
      "\n"
     ]
    }
   ],
   "source": [
    "# Melt and combine datasets into a single table\n",
    "\n",
    "x1 <- data.frame(group=\"AML\", reshape2::melt(df.list[[1]], variable.name = \"sample\", value.name = \"log2_TPM\"))\n",
    "x2 <- data.frame(group=\"ALL\", reshape2::melt(df.list[[2]], variable.name = \"sample\", value.name = \"log2_TPM\"))\n",
    "x3 <- data.frame(group=\"FBM\", reshape2::melt(df.list[[3]], variable.name = \"sample\", value.name = \"log2_TPM\"))\n",
    "x <- rbind(x1, x2, x3)"
   ]
  },
  {
   "cell_type": "markdown",
   "metadata": {},
   "source": [
    "# Establish expressed genes across samples\n",
    "\n",
    "We first establish the mean log2 TPM value for each dataset."
   ]
  },
  {
   "cell_type": "code",
   "execution_count": 10,
   "metadata": {},
   "outputs": [
    {
     "data": {
      "text/html": [
       "3.7516504186448"
      ],
      "text/latex": [
       "3.7516504186448"
      ],
      "text/markdown": [
       "3.7516504186448"
      ],
      "text/plain": [
       "[1] 3.75165"
      ]
     },
     "metadata": {},
     "output_type": "display_data"
    },
    {
     "data": {
      "text/html": [
       "1.96819296399643"
      ],
      "text/latex": [
       "1.96819296399643"
      ],
      "text/markdown": [
       "1.96819296399643"
      ],
      "text/plain": [
       "[1] 1.968193"
      ]
     },
     "metadata": {},
     "output_type": "display_data"
    },
    {
     "data": {
      "text/html": [
       "1.65110542694383"
      ],
      "text/latex": [
       "1.65110542694383"
      ],
      "text/markdown": [
       "1.65110542694383"
      ],
      "text/plain": [
       "[1] 1.651105"
      ]
     },
     "metadata": {},
     "output_type": "display_data"
    }
   ],
   "source": [
    "med_AML <- mean(x1$log2_TPM)\n",
    "med_ALL <- mean(x2$log2_TPM)\n",
    "med_FBM <- mean(x3$log2_TPM)\n",
    "\n",
    "med_AML \n",
    "med_ALL\n",
    "med_FBM \n"
   ]
  },
  {
   "cell_type": "code",
   "execution_count": 11,
   "metadata": {},
   "outputs": [
    {
     "data": {
      "image/png": "[encoded data removed]",
      "text/plain": [
       "Plot with title “Histogram FBM”"
      ]
     },
     "metadata": {
      "image/png": {
       "height": 420,
       "width": 420
      },
      "text/plain": {
       "height": 420,
       "width": 420
      }
     },
     "output_type": "display_data"
    }
   ],
   "source": [
    "par(mfrow = c(2,2), bg=\"white\")\n",
    "hist(x1$log2_TPM, breaks=50, main = \"Histogram AML\")\n",
    "text(x=15, y=500000, labels=round(med_AML, 2), col=\"red\")\n",
    "abline(v = med_AML, col=\"red\")\n",
    "\n",
    "hist(x2$log2_TPM, breaks=50, main = \"Histogram ALL\")\n",
    "text(x=15, y=500000, labels=round(med_ALL, 2), col=\"red\")\n",
    "abline(v = med_ALL, col=\"red\")\n",
    "\n",
    "hist(x3$log2_TPM, breaks=50, main = \"Histogram FBM\")\n",
    "text(x=15, y=300000, labels=round(med_FBM, 2), col=\"red\")\n",
    "abline(v = med_FBM, col=\"red\")"
   ]
  },
  {
   "cell_type": "code",
   "execution_count": 12,
   "metadata": {},
   "outputs": [
    {
     "data": {
      "text/html": [
       "<table>\n",
       "<caption>A matrix: 6 × 179 of type lgl</caption>\n",
       "<thead>\n",
       "\t<tr><th></th><th scope=col>TCGA.AB.2803</th><th scope=col>TCGA.AB.2807</th><th scope=col>TCGA.AB.2963</th><th scope=col>TCGA.AB.2826</th><th scope=col>TCGA.AB.2867</th><th scope=col>TCGA.AB.2818</th><th scope=col>TCGA.AB.2808</th><th scope=col>TCGA.AB.2853</th><th scope=col>TCGA.AB.2854</th><th scope=col>TCGA.AB.2822</th><th scope=col>⋯</th><th scope=col>TCGA.AB.2949</th><th scope=col>TCGA.AB.2981</th><th scope=col>TCGA.AB.2999</th><th scope=col>TCGA.AB.2896</th><th scope=col>TCGA.AB.2952</th><th scope=col>TCGA.AB.2920</th><th scope=col>TCGA.AB.2841</th><th scope=col>TCGA.AB.2811</th><th scope=col>TCGA.AB.2979</th><th scope=col>TCGA.AB.2977</th></tr>\n",
       "</thead>\n",
       "<tbody>\n",
       "\t<tr><th scope=row>A1BG-AS</th><td> TRUE</td><td> TRUE</td><td>FALSE</td><td>FALSE</td><td> TRUE</td><td> TRUE</td><td> TRUE</td><td>FALSE</td><td> TRUE</td><td> TRUE</td><td>⋯</td><td> TRUE</td><td>FALSE</td><td> TRUE</td><td>FALSE</td><td> TRUE</td><td> TRUE</td><td> TRUE</td><td>FALSE</td><td> TRUE</td><td> TRUE</td></tr>\n",
       "\t<tr><th scope=row>A1BG</th><td> TRUE</td><td> TRUE</td><td>FALSE</td><td>FALSE</td><td>FALSE</td><td> TRUE</td><td> TRUE</td><td>FALSE</td><td> TRUE</td><td> TRUE</td><td>⋯</td><td> TRUE</td><td>FALSE</td><td> TRUE</td><td>FALSE</td><td> TRUE</td><td> TRUE</td><td> TRUE</td><td>FALSE</td><td> TRUE</td><td> TRUE</td></tr>\n",
       "\t<tr><th scope=row>A2LD1</th><td>FALSE</td><td>FALSE</td><td>FALSE</td><td>FALSE</td><td>FALSE</td><td>FALSE</td><td>FALSE</td><td>FALSE</td><td>FALSE</td><td>FALSE</td><td>⋯</td><td>FALSE</td><td>FALSE</td><td>FALSE</td><td>FALSE</td><td>FALSE</td><td>FALSE</td><td>FALSE</td><td>FALSE</td><td>FALSE</td><td>FALSE</td></tr>\n",
       "\t<tr><th scope=row>A2ML1</th><td>FALSE</td><td>FALSE</td><td>FALSE</td><td>FALSE</td><td>FALSE</td><td>FALSE</td><td>FALSE</td><td>FALSE</td><td>FALSE</td><td>FALSE</td><td>⋯</td><td>FALSE</td><td>FALSE</td><td>FALSE</td><td>FALSE</td><td>FALSE</td><td>FALSE</td><td>FALSE</td><td>FALSE</td><td>FALSE</td><td>FALSE</td></tr>\n",
       "\t<tr><th scope=row>A2M</th><td> TRUE</td><td> TRUE</td><td>FALSE</td><td>FALSE</td><td>FALSE</td><td>FALSE</td><td> TRUE</td><td>FALSE</td><td> TRUE</td><td>FALSE</td><td>⋯</td><td>FALSE</td><td>FALSE</td><td> TRUE</td><td>FALSE</td><td>FALSE</td><td> TRUE</td><td>FALSE</td><td>FALSE</td><td>FALSE</td><td>FALSE</td></tr>\n",
       "\t<tr><th scope=row>A4GALT</th><td>FALSE</td><td>FALSE</td><td>FALSE</td><td>FALSE</td><td>FALSE</td><td>FALSE</td><td> TRUE</td><td>FALSE</td><td> TRUE</td><td>FALSE</td><td>⋯</td><td>FALSE</td><td>FALSE</td><td>FALSE</td><td>FALSE</td><td> TRUE</td><td>FALSE</td><td>FALSE</td><td>FALSE</td><td> TRUE</td><td>FALSE</td></tr>\n",
       "</tbody>\n",
       "</table>\n"
      ],
      "text/latex": [
       "A matrix: 6 × 179 of type lgl\n",
       "\\begin{tabular}{r|lllllllllllllllllllll}\n",
       "  & TCGA.AB.2803 & TCGA.AB.2807 & TCGA.AB.2963 & TCGA.AB.2826 & TCGA.AB.2867 & TCGA.AB.2818 & TCGA.AB.2808 & TCGA.AB.2853 & TCGA.AB.2854 & TCGA.AB.2822 & ⋯ & TCGA.AB.2949 & TCGA.AB.2981 & TCGA.AB.2999 & TCGA.AB.2896 & TCGA.AB.2952 & TCGA.AB.2920 & TCGA.AB.2841 & TCGA.AB.2811 & TCGA.AB.2979 & TCGA.AB.2977\\\\\n",
       "\\hline\n",
       "\tA1BG-AS &  TRUE &  TRUE & FALSE & FALSE &  TRUE &  TRUE &  TRUE & FALSE &  TRUE &  TRUE & ⋯ &  TRUE & FALSE &  TRUE & FALSE &  TRUE &  TRUE &  TRUE & FALSE &  TRUE &  TRUE\\\\\n",
       "\tA1BG &  TRUE &  TRUE & FALSE & FALSE & FALSE &  TRUE &  TRUE & FALSE &  TRUE &  TRUE & ⋯ &  TRUE & FALSE &  TRUE & FALSE &  TRUE &  TRUE &  TRUE & FALSE &  TRUE &  TRUE\\\\\n",
       "\tA2LD1 & FALSE & FALSE & FALSE & FALSE & FALSE & FALSE & FALSE & FALSE & FALSE & FALSE & ⋯ & FALSE & FALSE & FALSE & FALSE & FALSE & FALSE & FALSE & FALSE & FALSE & FALSE\\\\\n",
       "\tA2ML1 & FALSE & FALSE & FALSE & FALSE & FALSE & FALSE & FALSE & FALSE & FALSE & FALSE & ⋯ & FALSE & FALSE & FALSE & FALSE & FALSE & FALSE & FALSE & FALSE & FALSE & FALSE\\\\\n",
       "\tA2M &  TRUE &  TRUE & FALSE & FALSE & FALSE & FALSE &  TRUE & FALSE &  TRUE & FALSE & ⋯ & FALSE & FALSE &  TRUE & FALSE & FALSE &  TRUE & FALSE & FALSE & FALSE & FALSE\\\\\n",
       "\tA4GALT & FALSE & FALSE & FALSE & FALSE & FALSE & FALSE &  TRUE & FALSE &  TRUE & FALSE & ⋯ & FALSE & FALSE & FALSE & FALSE &  TRUE & FALSE & FALSE & FALSE &  TRUE & FALSE\\\\\n",
       "\\end{tabular}\n"
      ],
      "text/markdown": [
       "\n",
       "A matrix: 6 × 179 of type lgl\n",
       "\n",
       "| <!--/--> | TCGA.AB.2803 | TCGA.AB.2807 | TCGA.AB.2963 | TCGA.AB.2826 | TCGA.AB.2867 | TCGA.AB.2818 | TCGA.AB.2808 | TCGA.AB.2853 | TCGA.AB.2854 | TCGA.AB.2822 | ⋯ | TCGA.AB.2949 | TCGA.AB.2981 | TCGA.AB.2999 | TCGA.AB.2896 | TCGA.AB.2952 | TCGA.AB.2920 | TCGA.AB.2841 | TCGA.AB.2811 | TCGA.AB.2979 | TCGA.AB.2977 |\n",
       "|---|---|---|---|---|---|---|---|---|---|---|---|---|---|---|---|---|---|---|---|---|---|\n",
       "| A1BG-AS |  TRUE |  TRUE | FALSE | FALSE |  TRUE |  TRUE |  TRUE | FALSE |  TRUE |  TRUE | ⋯ |  TRUE | FALSE |  TRUE | FALSE |  TRUE |  TRUE |  TRUE | FALSE |  TRUE |  TRUE |\n",
       "| A1BG |  TRUE |  TRUE | FALSE | FALSE | FALSE |  TRUE |  TRUE | FALSE |  TRUE |  TRUE | ⋯ |  TRUE | FALSE |  TRUE | FALSE |  TRUE |  TRUE |  TRUE | FALSE |  TRUE |  TRUE |\n",
       "| A2LD1 | FALSE | FALSE | FALSE | FALSE | FALSE | FALSE | FALSE | FALSE | FALSE | FALSE | ⋯ | FALSE | FALSE | FALSE | FALSE | FALSE | FALSE | FALSE | FALSE | FALSE | FALSE |\n",
       "| A2ML1 | FALSE | FALSE | FALSE | FALSE | FALSE | FALSE | FALSE | FALSE | FALSE | FALSE | ⋯ | FALSE | FALSE | FALSE | FALSE | FALSE | FALSE | FALSE | FALSE | FALSE | FALSE |\n",
       "| A2M |  TRUE |  TRUE | FALSE | FALSE | FALSE | FALSE |  TRUE | FALSE |  TRUE | FALSE | ⋯ | FALSE | FALSE |  TRUE | FALSE | FALSE |  TRUE | FALSE | FALSE | FALSE | FALSE |\n",
       "| A4GALT | FALSE | FALSE | FALSE | FALSE | FALSE | FALSE |  TRUE | FALSE |  TRUE | FALSE | ⋯ | FALSE | FALSE | FALSE | FALSE |  TRUE | FALSE | FALSE | FALSE |  TRUE | FALSE |\n",
       "\n"
      ],
      "text/plain": [
       "        TCGA.AB.2803 TCGA.AB.2807 TCGA.AB.2963 TCGA.AB.2826 TCGA.AB.2867\n",
       "A1BG-AS  TRUE         TRUE        FALSE        FALSE         TRUE       \n",
       "A1BG     TRUE         TRUE        FALSE        FALSE        FALSE       \n",
       "A2LD1   FALSE        FALSE        FALSE        FALSE        FALSE       \n",
       "A2ML1   FALSE        FALSE        FALSE        FALSE        FALSE       \n",
       "A2M      TRUE         TRUE        FALSE        FALSE        FALSE       \n",
       "A4GALT  FALSE        FALSE        FALSE        FALSE        FALSE       \n",
       "        TCGA.AB.2818 TCGA.AB.2808 TCGA.AB.2853 TCGA.AB.2854 TCGA.AB.2822 ⋯\n",
       "A1BG-AS  TRUE         TRUE        FALSE         TRUE         TRUE        ⋯\n",
       "A1BG     TRUE         TRUE        FALSE         TRUE         TRUE        ⋯\n",
       "A2LD1   FALSE        FALSE        FALSE        FALSE        FALSE        ⋯\n",
       "A2ML1   FALSE        FALSE        FALSE        FALSE        FALSE        ⋯\n",
       "A2M     FALSE         TRUE        FALSE         TRUE        FALSE        ⋯\n",
       "A4GALT  FALSE         TRUE        FALSE         TRUE        FALSE        ⋯\n",
       "        TCGA.AB.2949 TCGA.AB.2981 TCGA.AB.2999 TCGA.AB.2896 TCGA.AB.2952\n",
       "A1BG-AS  TRUE        FALSE         TRUE        FALSE         TRUE       \n",
       "A1BG     TRUE        FALSE         TRUE        FALSE         TRUE       \n",
       "A2LD1   FALSE        FALSE        FALSE        FALSE        FALSE       \n",
       "A2ML1   FALSE        FALSE        FALSE        FALSE        FALSE       \n",
       "A2M     FALSE        FALSE         TRUE        FALSE        FALSE       \n",
       "A4GALT  FALSE        FALSE        FALSE        FALSE         TRUE       \n",
       "        TCGA.AB.2920 TCGA.AB.2841 TCGA.AB.2811 TCGA.AB.2979 TCGA.AB.2977\n",
       "A1BG-AS  TRUE         TRUE        FALSE         TRUE         TRUE       \n",
       "A1BG     TRUE         TRUE        FALSE         TRUE         TRUE       \n",
       "A2LD1   FALSE        FALSE        FALSE        FALSE        FALSE       \n",
       "A2ML1   FALSE        FALSE        FALSE        FALSE        FALSE       \n",
       "A2M      TRUE        FALSE        FALSE        FALSE        FALSE       \n",
       "A4GALT  FALSE        FALSE        FALSE         TRUE        FALSE       "
      ]
     },
     "metadata": {},
     "output_type": "display_data"
    }
   ],
   "source": [
    "# Convert expression data into boolean matrix (T is greater than mean)\n",
    "\n",
    "df.list[[1]] <- df.list[[1]] > mean(unlist(df.list[[1]]))\n",
    "df.list[[2]] <- df.list[[2]] > mean(unlist(df.list[[2]]))\n",
    "df.list[[3]] <- df.list[[3]] > mean(unlist(df.list[[3]]))\n",
    "\n",
    "head(df.list[[1]])"
   ]
  },
  {
   "cell_type": "code",
   "execution_count": 13,
   "metadata": {},
   "outputs": [],
   "source": [
    "# Extract expressed genes for each sample individually \n",
    "\n",
    "gene.list.1 <- list()\n",
    "x <- 1\n",
    "for(i in 1:ncol(df.list[[x]])){\n",
    "    gene.list.1[[i]] <- rownames(df.list[[x]])[df.list[[x]][,i]]\n",
    "    names(gene.list.1)[i] <- colnames(df.list[[x]])[i]\n",
    "}\n",
    "\n",
    "gene.list.2 <- list()\n",
    "x <- 2\n",
    "for(i in 1:ncol(df.list[[x]])){\n",
    "    gene.list.2[[i]] <- rownames(df.list[[x]])[df.list[[x]][,i]]\n",
    "    names(gene.list.2)[i] <- colnames(df.list[[x]])[i]\n",
    "}\n",
    "\n",
    "gene.list.3 <- list()\n",
    "x <- 3\n",
    "for(i in 1:ncol(df.list[[x]])){\n",
    "    gene.list.3[[i]] <- rownames(df.list[[x]])[df.list[[x]][,i]]\n",
    "    names(gene.list.3)[i] <- colnames(df.list[[x]])[i]\n",
    "}\n"
   ]
  },
  {
   "cell_type": "markdown",
   "metadata": {},
   "source": [
    "# Filter MLL-AF4 KD RNA-seq by extracted gene lists, to create a table for each patient."
   ]
  },
  {
   "cell_type": "code",
   "execution_count": 20,
   "metadata": {
    "collapsed": false,
    "jupyter": {
     "outputs_hidden": false
    }
   },
   "outputs": [],
   "source": [
    "\n",
    "exprs.1 <- lapply(gene.list.1, function(g){\n",
    "    de.genes %>%\n",
    "        filter(Geneid %in% g) %>%\n",
    "        inner_join(hg38.lookup, by = c(\"Geneid\" = \"symbol\")) %>% # Convert to entrez\n",
    "        select(entrez, logFC, P.Value = FDR, symbol = Geneid) %>%\n",
    "        distinct(entrez, .keep_all = T) %>%\n",
    "        as.data.frame()\n",
    "})\n",
    "\n",
    "exprs.2 <- lapply(gene.list.2, function(g){\n",
    "    de.genes %>%\n",
    "        filter(Geneid %in% g) %>%\n",
    "        inner_join(hg38.lookup, by = c(\"Geneid\" = \"symbol\")) %>% # Convert to entrez\n",
    "        select(entrez, logFC, P.Value = FDR, symbol = Geneid) %>%\n",
    "        distinct(entrez, .keep_all = T) %>%\n",
    "        as.data.frame()\n",
    "})\n",
    "\n",
    "exprs.3 <- lapply(gene.list.3, function(g){\n",
    "    de.genes %>%\n",
    "        filter(Geneid %in% g) %>%\n",
    "        inner_join(hg38.lookup, by = c(\"Geneid\" = \"symbol\")) %>% # Convert to entrez\n",
    "        select(entrez, logFC, P.Value = FDR, symbol = Geneid) %>%\n",
    "        distinct(entrez, .keep_all = T) %>%\n",
    "        as.data.frame()\n",
    "})\n"
   ]
  },
  {
   "cell_type": "code",
   "execution_count": 21,
   "metadata": {},
   "outputs": [
    {
     "data": {
      "text/html": [
       "<table>\n",
       "<caption>A data.frame: 6 × 4</caption>\n",
       "<thead>\n",
       "\t<tr><th></th><th scope=col>entrez</th><th scope=col>logFC</th><th scope=col>P.Value</th><th scope=col>symbol</th></tr>\n",
       "\t<tr><th></th><th scope=col>&lt;chr&gt;</th><th scope=col>&lt;dbl&gt;</th><th scope=col>&lt;dbl&gt;</th><th scope=col>&lt;chr&gt;</th></tr>\n",
       "</thead>\n",
       "<tbody>\n",
       "\t<tr><th scope=row>1</th><td>8842  </td><td>-1.918198</td><td>3.606216e-275</td><td>PROM1   </td></tr>\n",
       "\t<tr><th scope=row>2</th><td>132864</td><td>-1.958025</td><td>1.677680e-151</td><td>CPEB2   </td></tr>\n",
       "\t<tr><th scope=row>3</th><td>2078  </td><td>-1.280531</td><td>3.675610e-117</td><td>ERG     </td></tr>\n",
       "\t<tr><th scope=row>4</th><td>3206  </td><td>-1.516995</td><td> 5.300073e-98</td><td>HOXA10  </td></tr>\n",
       "\t<tr><th scope=row>5</th><td>10320 </td><td>-1.280817</td><td> 2.452852e-92</td><td>IKZF1   </td></tr>\n",
       "\t<tr><th scope=row>6</th><td>55701 </td><td> 1.659394</td><td> 4.189164e-88</td><td>ARHGEF40</td></tr>\n",
       "</tbody>\n",
       "</table>\n"
      ],
      "text/latex": [
       "A data.frame: 6 × 4\n",
       "\\begin{tabular}{r|llll}\n",
       "  & entrez & logFC & P.Value & symbol\\\\\n",
       "  & <chr> & <dbl> & <dbl> & <chr>\\\\\n",
       "\\hline\n",
       "\t1 & 8842   & -1.918198 & 3.606216e-275 & PROM1   \\\\\n",
       "\t2 & 132864 & -1.958025 & 1.677680e-151 & CPEB2   \\\\\n",
       "\t3 & 2078   & -1.280531 & 3.675610e-117 & ERG     \\\\\n",
       "\t4 & 3206   & -1.516995 &  5.300073e-98 & HOXA10  \\\\\n",
       "\t5 & 10320  & -1.280817 &  2.452852e-92 & IKZF1   \\\\\n",
       "\t6 & 55701  &  1.659394 &  4.189164e-88 & ARHGEF40\\\\\n",
       "\\end{tabular}\n"
      ],
      "text/markdown": [
       "\n",
       "A data.frame: 6 × 4\n",
       "\n",
       "| <!--/--> | entrez &lt;chr&gt; | logFC &lt;dbl&gt; | P.Value &lt;dbl&gt; | symbol &lt;chr&gt; |\n",
       "|---|---|---|---|---|\n",
       "| 1 | 8842   | -1.918198 | 3.606216e-275 | PROM1    |\n",
       "| 2 | 132864 | -1.958025 | 1.677680e-151 | CPEB2    |\n",
       "| 3 | 2078   | -1.280531 | 3.675610e-117 | ERG      |\n",
       "| 4 | 3206   | -1.516995 |  5.300073e-98 | HOXA10   |\n",
       "| 5 | 10320  | -1.280817 |  2.452852e-92 | IKZF1    |\n",
       "| 6 | 55701  |  1.659394 |  4.189164e-88 | ARHGEF40 |\n",
       "\n"
      ],
      "text/plain": [
       "  entrez logFC     P.Value       symbol  \n",
       "1 8842   -1.918198 3.606216e-275 PROM1   \n",
       "2 132864 -1.958025 1.677680e-151 CPEB2   \n",
       "3 2078   -1.280531 3.675610e-117 ERG     \n",
       "4 3206   -1.516995  5.300073e-98 HOXA10  \n",
       "5 10320  -1.280817  2.452852e-92 IKZF1   \n",
       "6 55701   1.659394  4.189164e-88 ARHGEF40"
      ]
     },
     "metadata": {},
     "output_type": "display_data"
    },
    {
     "data": {
      "text/html": [
       "<table>\n",
       "<caption>A data.frame: 6 × 4</caption>\n",
       "<thead>\n",
       "\t<tr><th></th><th scope=col>entrez</th><th scope=col>logFC</th><th scope=col>P.Value</th><th scope=col>symbol</th></tr>\n",
       "\t<tr><th></th><th scope=col>&lt;chr&gt;</th><th scope=col>&lt;dbl&gt;</th><th scope=col>&lt;dbl&gt;</th><th scope=col>&lt;chr&gt;</th></tr>\n",
       "</thead>\n",
       "<tbody>\n",
       "\t<tr><th scope=row>1</th><td>8842  </td><td>-1.918198</td><td>3.606216e-275</td><td>PROM1   </td></tr>\n",
       "\t<tr><th scope=row>2</th><td>132864</td><td>-1.958025</td><td>1.677680e-151</td><td>CPEB2   </td></tr>\n",
       "\t<tr><th scope=row>3</th><td>2078  </td><td>-1.280531</td><td>3.675610e-117</td><td>ERG     </td></tr>\n",
       "\t<tr><th scope=row>4</th><td>10320 </td><td>-1.280817</td><td> 2.452852e-92</td><td>IKZF1   </td></tr>\n",
       "\t<tr><th scope=row>5</th><td>55701 </td><td> 1.659394</td><td> 4.189164e-88</td><td>ARHGEF40</td></tr>\n",
       "\t<tr><th scope=row>6</th><td>4130  </td><td> 2.341169</td><td> 4.564343e-85</td><td>MAP1A   </td></tr>\n",
       "</tbody>\n",
       "</table>\n"
      ],
      "text/latex": [
       "A data.frame: 6 × 4\n",
       "\\begin{tabular}{r|llll}\n",
       "  & entrez & logFC & P.Value & symbol\\\\\n",
       "  & <chr> & <dbl> & <dbl> & <chr>\\\\\n",
       "\\hline\n",
       "\t1 & 8842   & -1.918198 & 3.606216e-275 & PROM1   \\\\\n",
       "\t2 & 132864 & -1.958025 & 1.677680e-151 & CPEB2   \\\\\n",
       "\t3 & 2078   & -1.280531 & 3.675610e-117 & ERG     \\\\\n",
       "\t4 & 10320  & -1.280817 &  2.452852e-92 & IKZF1   \\\\\n",
       "\t5 & 55701  &  1.659394 &  4.189164e-88 & ARHGEF40\\\\\n",
       "\t6 & 4130   &  2.341169 &  4.564343e-85 & MAP1A   \\\\\n",
       "\\end{tabular}\n"
      ],
      "text/markdown": [
       "\n",
       "A data.frame: 6 × 4\n",
       "\n",
       "| <!--/--> | entrez &lt;chr&gt; | logFC &lt;dbl&gt; | P.Value &lt;dbl&gt; | symbol &lt;chr&gt; |\n",
       "|---|---|---|---|---|\n",
       "| 1 | 8842   | -1.918198 | 3.606216e-275 | PROM1    |\n",
       "| 2 | 132864 | -1.958025 | 1.677680e-151 | CPEB2    |\n",
       "| 3 | 2078   | -1.280531 | 3.675610e-117 | ERG      |\n",
       "| 4 | 10320  | -1.280817 |  2.452852e-92 | IKZF1    |\n",
       "| 5 | 55701  |  1.659394 |  4.189164e-88 | ARHGEF40 |\n",
       "| 6 | 4130   |  2.341169 |  4.564343e-85 | MAP1A    |\n",
       "\n"
      ],
      "text/plain": [
       "  entrez logFC     P.Value       symbol  \n",
       "1 8842   -1.918198 3.606216e-275 PROM1   \n",
       "2 132864 -1.958025 1.677680e-151 CPEB2   \n",
       "3 2078   -1.280531 3.675610e-117 ERG     \n",
       "4 10320  -1.280817  2.452852e-92 IKZF1   \n",
       "5 55701   1.659394  4.189164e-88 ARHGEF40\n",
       "6 4130    2.341169  4.564343e-85 MAP1A   "
      ]
     },
     "metadata": {},
     "output_type": "display_data"
    }
   ],
   "source": [
    "exprs.1$TCGA.AB.2805 %>% head\n",
    "exprs.1$TCGA.AB.2815 %>% head"
   ]
  },
  {
   "cell_type": "markdown",
   "metadata": {},
   "source": [
    "# Generate networks for each patient\n",
    "\n",
    "First we establish the underlying network using MLL-AF4 ChIPseq"
   ]
  },
  {
   "cell_type": "code",
   "execution_count": 22,
   "metadata": {},
   "outputs": [],
   "source": [
    "# Build underlying network with MLL-AF4 ChIPseq and hs.interactionmap\n",
    "\n",
    "net <- buildNetwork(\n",
    "    TFbindingTable = as.data.frame(binding.table[,-3]),\n",
    "    interactionmap = hs.interactionmap,\n",
    "    level = 1\n",
    ")"
   ]
  },
  {
   "cell_type": "markdown",
   "metadata": {},
   "source": [
    "Next, we loop through the filtered MLL-AF4 RNA-seq tables, where each table is specific to a patient, and create a filtered network."
   ]
  },
  {
   "cell_type": "code",
   "execution_count": null,
   "metadata": {},
   "outputs": [],
   "source": [
    "filt.net.1 <- lapply(exprs.1, function(exprs){\n",
    "    filtered.net <- filterNetwork(\n",
    "        rootgene = \"4297\", # MLL\n",
    "        sifNetwork = net,\n",
    "        exprsData = exprs,\n",
    "        mergeBy = \"entrez\",\n",
    "        tolerance = 2,\n",
    "        cutoffPVal = 0.05,\n",
    "        cutoffLFC = 0.001\n",
    "    )\n",
    "})\n",
    "filt.net.2 <- lapply(exprs.2, function(exprs){\n",
    "    filtered.net <- filterNetwork(\n",
    "        rootgene = \"4297\", # MLL\n",
    "        sifNetwork = net,\n",
    "        exprsData = exprs,\n",
    "        mergeBy = \"entrez\",\n",
    "        tolerance = 2,\n",
    "        cutoffPVal = 0.05,\n",
    "        cutoffLFC = 0.001\n",
    "    )\n",
    "})\n",
    "filt.net.3 <- lapply(exprs.3, function(exprs){\n",
    "    filtered.net <- filterNetwork(\n",
    "        rootgene = \"4297\", # MLL\n",
    "        sifNetwork = net,\n",
    "        exprsData = exprs,\n",
    "        mergeBy = \"entrez\",\n",
    "        tolerance = 2,\n",
    "        cutoffPVal = 0.05,\n",
    "        cutoffLFC = 0.001\n",
    "    )\n",
    "})\n"
   ]
  },
  {
   "cell_type": "markdown",
   "metadata": {},
   "source": [
    "Then we write the new networks to file"
   ]
  },
  {
   "cell_type": "code",
   "execution_count": 27,
   "metadata": {},
   "outputs": [],
   "source": [
    "filt.net <- filt.net.1\n",
    "pre_n <- \"Melnick\"\n",
    "for(i in 1:length(filt.net)){\n",
    "    grn <- filt.net[[i]]\n",
    "    n1 <- paste0(\"./\", pre_n, \"/PatientSubnet_\", pre_n, \"_\", names(filt.net)[i], \"_edges.txt\")\n",
    "    n2 <- paste0(\"./\", pre_n, \"/PatientSubnet_\", pre_n, \"_\", names(filt.net)[i], \"_nodes.txt\")\n",
    "    \n",
    "    edges <- grn %>% select(from, to)\n",
    "    nodes <- edges %>% \n",
    "        gather(node_type, entrez) %>% \n",
    "        distinct(entrez) %>% \n",
    "        inner_join(hg38.lookup, by = \"entrez\") %>% \n",
    "        select(entrez, symbol)\n",
    "    \n",
    "    write_tsv(edges, n1)\n",
    "    write_tsv(nodes, n2)\n",
    "}\n",
    "\n",
    "###\n",
    "\n",
    "filt.net <- filt.net.2\n",
    "pre_n <- \"LAML\"\n",
    "for(i in 1:length(filt.net)){\n",
    "    grn <- filt.net[[i]]\n",
    "    n1 <- paste0(\"./\", pre_n, \"/PatientSubnet_\", pre_n, \"_\", names(filt.net)[i], \"_edges.txt\")\n",
    "    n2 <- paste0(\"./\", pre_n, \"/PatientSubnet_\", pre_n, \"_\", names(filt.net)[i], \"_nodes.txt\")\n",
    "    \n",
    "    edges <- grn %>% select(from, to)\n",
    "    nodes <- edges %>% \n",
    "        gather(node_type, entrez) %>% \n",
    "        distinct(entrez) %>% \n",
    "        inner_join(hg38.lookup, by = \"entrez\") %>% \n",
    "        select(entrez, symbol)\n",
    "    \n",
    "    write_tsv(edges, n1)\n",
    "    write_tsv(nodes, n2)\n",
    "}\n",
    "\n",
    "###\n",
    "\n",
    "filt.net <- filt.net.3\n",
    "pre_n <- \"Menendez\"\n",
    "for(i in 1:length(filt.net)){\n",
    "    grn <- filt.net[[i]]\n",
    "    n1 <- paste0(\"./\", pre_n, \"/PatientSubnet_\", pre_n, \"_\", names(filt.net)[i], \"_edges.txt\")\n",
    "    n2 <- paste0(\"./\", pre_n, \"/PatientSubnet_\", pre_n, \"_\", names(filt.net)[i], \"_nodes.txt\")\n",
    "    \n",
    "    edges <- grn %>% select(from, to)\n",
    "    nodes <- edges %>% \n",
    "        gather(node_type, entrez) %>% \n",
    "        distinct(entrez) %>% \n",
    "        inner_join(hg38.lookup, by = \"entrez\") %>% \n",
    "        select(entrez, symbol)\n",
    "    \n",
    "    write_tsv(edges, n1)\n",
    "    write_tsv(nodes, n2)\n",
    "}\n"
   ]
  },
  {
   "cell_type": "markdown",
   "metadata": {},
   "source": [
    "# Binary matrix\n",
    "The sub-networks can also be described as a binary matrix.\n",
    "\n",
    "We take the binary matrices from earlier in the script, and combine them. The sample IDs (column names) can later be used to extract samples from different databases."
   ]
  },
  {
   "cell_type": "code",
   "execution_count": 37,
   "metadata": {},
   "outputs": [
    {
     "name": "stderr",
     "output_type": "stream",
     "text": [
      "Joining, by = \"symbol\"\n",
      "\n",
      "Joining, by = \"symbol\"\n",
      "\n",
      "Joining, by = \"symbol\"\n",
      "\n",
      "Joining, by = \"symbol\"\n",
      "\n"
     ]
    }
   ],
   "source": [
    "df.list2 <- lapply(df.list, function(x) x %>% data.frame() %>% rownames_to_column(\"symbol\"))\n",
    "df.list3 <- lapply(df.list2, function(x) left_join(nodes, x) %>% select(-entrez))\n",
    "                   \n",
    "binary.matrix <- df.list3[[1]] %>%\n",
    "    left_join(df.list3[[2]]) %>%\n",
    "    left_join(df.list3[[3]]) %>%\n",
    "    mutate_all(function(x) replace(x, is.na(x), F)) %>%\n",
    "    distinct(symbol, .keep_all = T) %>%\n",
    "    column_to_rownames(\"symbol\")\n"
   ]
  },
  {
   "cell_type": "code",
   "execution_count": 39,
   "metadata": {},
   "outputs": [
    {
     "data": {
      "text/html": [
       "<table>\n",
       "<caption>A data.frame: 5 × 5</caption>\n",
       "<thead>\n",
       "\t<tr><th></th><th scope=col>GSM856281</th><th scope=col>GSM856282</th><th scope=col>GSM856283</th><th scope=col>GSM856284</th><th scope=col>GSM856285</th></tr>\n",
       "\t<tr><th></th><th scope=col>&lt;lgl&gt;</th><th scope=col>&lt;lgl&gt;</th><th scope=col>&lt;lgl&gt;</th><th scope=col>&lt;lgl&gt;</th><th scope=col>&lt;lgl&gt;</th></tr>\n",
       "</thead>\n",
       "<tbody>\n",
       "\t<tr><th scope=row>EGR1</th><td>TRUE</td><td>TRUE</td><td>TRUE</td><td>TRUE</td><td> TRUE</td></tr>\n",
       "\t<tr><th scope=row>FOSL2</th><td>TRUE</td><td>TRUE</td><td>TRUE</td><td>TRUE</td><td>FALSE</td></tr>\n",
       "\t<tr><th scope=row>ARNT</th><td>TRUE</td><td>TRUE</td><td>TRUE</td><td>TRUE</td><td>FALSE</td></tr>\n",
       "\t<tr><th scope=row>MYC</th><td>TRUE</td><td>TRUE</td><td>TRUE</td><td>TRUE</td><td> TRUE</td></tr>\n",
       "\t<tr><th scope=row>RREB1</th><td>TRUE</td><td>TRUE</td><td>TRUE</td><td>TRUE</td><td> TRUE</td></tr>\n",
       "</tbody>\n",
       "</table>\n"
      ],
      "text/latex": [
       "A data.frame: 5 × 5\n",
       "\\begin{tabular}{r|lllll}\n",
       "  & GSM856281 & GSM856282 & GSM856283 & GSM856284 & GSM856285\\\\\n",
       "  & <lgl> & <lgl> & <lgl> & <lgl> & <lgl>\\\\\n",
       "\\hline\n",
       "\tEGR1 & TRUE & TRUE & TRUE & TRUE &  TRUE\\\\\n",
       "\tFOSL2 & TRUE & TRUE & TRUE & TRUE & FALSE\\\\\n",
       "\tARNT & TRUE & TRUE & TRUE & TRUE & FALSE\\\\\n",
       "\tMYC & TRUE & TRUE & TRUE & TRUE &  TRUE\\\\\n",
       "\tRREB1 & TRUE & TRUE & TRUE & TRUE &  TRUE\\\\\n",
       "\\end{tabular}\n"
      ],
      "text/markdown": [
       "\n",
       "A data.frame: 5 × 5\n",
       "\n",
       "| <!--/--> | GSM856281 &lt;lgl&gt; | GSM856282 &lt;lgl&gt; | GSM856283 &lt;lgl&gt; | GSM856284 &lt;lgl&gt; | GSM856285 &lt;lgl&gt; |\n",
       "|---|---|---|---|---|---|\n",
       "| EGR1 | TRUE | TRUE | TRUE | TRUE |  TRUE |\n",
       "| FOSL2 | TRUE | TRUE | TRUE | TRUE | FALSE |\n",
       "| ARNT | TRUE | TRUE | TRUE | TRUE | FALSE |\n",
       "| MYC | TRUE | TRUE | TRUE | TRUE |  TRUE |\n",
       "| RREB1 | TRUE | TRUE | TRUE | TRUE |  TRUE |\n",
       "\n"
      ],
      "text/plain": [
       "      GSM856281 GSM856282 GSM856283 GSM856284 GSM856285\n",
       "EGR1  TRUE      TRUE      TRUE      TRUE       TRUE    \n",
       "FOSL2 TRUE      TRUE      TRUE      TRUE      FALSE    \n",
       "ARNT  TRUE      TRUE      TRUE      TRUE      FALSE    \n",
       "MYC   TRUE      TRUE      TRUE      TRUE       TRUE    \n",
       "RREB1 TRUE      TRUE      TRUE      TRUE       TRUE    "
      ]
     },
     "metadata": {},
     "output_type": "display_data"
    }
   ],
   "source": [
    "binary.matrix[1:5,1:5]"
   ]
  },
  {
   "cell_type": "code",
   "execution_count": 64,
   "metadata": {},
   "outputs": [],
   "source": [
    "write_tsv(rownames_to_column(binary.matrix, \"Geneid\"), \"Patient_Binary_Matrix.tsv\")"
   ]
  }
 ],
 "metadata": {
  "anaconda-cloud": {},
  "kernelspec": {
   "display_name": "R",
   "language": "R",
   "name": "ir"
  },
  "language_info": {
   "codemirror_mode": "r",
   "file_extension": ".r",
   "mimetype": "text/x-r-source",
   "name": "R",
   "pygments_lexer": "r",
   "version": "3.6.1"
  },
  "toc": {
   "base_numbering": 1,
   "nav_menu": {},
   "number_sections": true,
   "sideBar": true,
   "skip_h1_title": true,
   "title_cell": "Table of Contents",
   "title_sidebar": "Contents",
   "toc_cell": false,
   "toc_position": {},
   "toc_section_display": true,
   "toc_window_display": false
  }
 },
 "nbformat": 4,
 "nbformat_minor": 4
}
