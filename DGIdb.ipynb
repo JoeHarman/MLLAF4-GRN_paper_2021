{
 "cells": [
  {
   "cell_type": "markdown",
   "metadata": {},
   "source": [
    "*Joe Harman  \n",
    "2019-03-19 18:07:42  \n",
    "Redone 26/04/2019*\n",
    "\n",
    "# Drug screen overlap with MLLAF4 GRN\n",
    "\n",
    "Here I'm taking the drug-gene interaction database from DGIdb and establishing the overlaps with the MLLAF4 network to determine potential druggable applications towards MLLAF4 downstream targets"
   ]
  },
  {
   "cell_type": "markdown",
   "metadata": {},
   "source": [
    "## Setup"
   ]
  },
  {
   "cell_type": "code",
   "execution_count": 2,
   "metadata": {
    "collapsed": false
   },
   "outputs": [],
   "source": [
    "library(tidyverse)\n",
    "library(ggplot2)\n",
    "library(igraph)\n",
    "library(ggrepel)"
   ]
  },
  {
   "cell_type": "code",
   "execution_count": 3,
   "metadata": {
    "collapsed": false
   },
   "outputs": [
    {
     "name": "stderr",
     "output_type": "stream",
     "text": [
      "Parsed with column specification:\n",
      "cols(\n",
      "  gene_name = \u001b[31mcol_character()\u001b[39m,\n",
      "  gene_claim_name = \u001b[31mcol_character()\u001b[39m,\n",
      "  entrez_id = \u001b[32mcol_double()\u001b[39m,\n",
      "  interaction_claim_source = \u001b[31mcol_character()\u001b[39m,\n",
      "  interaction_types = \u001b[31mcol_character()\u001b[39m,\n",
      "  drug_claim_name = \u001b[31mcol_character()\u001b[39m,\n",
      "  drug_claim_primary_name = \u001b[31mcol_character()\u001b[39m,\n",
      "  drug_name = \u001b[31mcol_character()\u001b[39m,\n",
      "  drug_chembl_id = \u001b[31mcol_character()\u001b[39m,\n",
      "  PMIDs = \u001b[32mcol_number()\u001b[39m\n",
      ")\n"
     ]
    }
   ],
   "source": [
    "drug_int <- read_tsv(\"interactions.tsv\") %>%\n",
    "    select(symbol = gene_name, entrez = entrez_id, interaction_types, drug_name) %>%\n",
    "    mutate(interaction_types = replace(interaction_types, is.na(interaction_types), \"unknown\")) %>%\n",
    "    filter(!is.na(symbol) & !is.na(drug_name))\n",
    "\n",
    "nodes <- read_graph(\"../Aggregated_networks/MLL-AF4/AggregatedGraph_MLL-AF4.gml\", \"gml\") %>%\n",
    "    igraph::as_data_frame(what=\"vertices\") %>%\n",
    "    select(entrez=name, symbol, degree, stress, Percexpressed, MLLAF4logFC, Dropoutclass)"
   ]
  },
  {
   "cell_type": "code",
   "execution_count": 4,
   "metadata": {
    "collapsed": true
   },
   "outputs": [],
   "source": [
    "drugs <- unique(drug_int$drug_name)"
   ]
  },
  {
   "cell_type": "code",
   "execution_count": 5,
   "metadata": {
    "collapsed": false
   },
   "outputs": [
    {
     "data": {
      "text/html": [
       "<ol class=list-inline>\n",
       "\t<li>'BMS-387032'</li>\n",
       "\t<li>'CHEMBL72862'</li>\n",
       "\t<li>'PREDNISONE'</li>\n",
       "\t<li>'ISOFLAVONE'</li>\n",
       "\t<li>'QUIZARTINIB'</li>\n",
       "\t<li>'CHEMBL561708'</li>\n",
       "</ol>\n"
      ],
      "text/latex": [
       "\\begin{enumerate*}\n",
       "\\item 'BMS-387032'\n",
       "\\item 'CHEMBL72862'\n",
       "\\item 'PREDNISONE'\n",
       "\\item 'ISOFLAVONE'\n",
       "\\item 'QUIZARTINIB'\n",
       "\\item 'CHEMBL561708'\n",
       "\\end{enumerate*}\n"
      ],
      "text/markdown": [
       "1. 'BMS-387032'\n",
       "2. 'CHEMBL72862'\n",
       "3. 'PREDNISONE'\n",
       "4. 'ISOFLAVONE'\n",
       "5. 'QUIZARTINIB'\n",
       "6. 'CHEMBL561708'\n",
       "\n",
       "\n"
      ],
      "text/plain": [
       "[1] \"BMS-387032\"   \"CHEMBL72862\"  \"PREDNISONE\"   \"ISOFLAVONE\"   \"QUIZARTINIB\" \n",
       "[6] \"CHEMBL561708\""
      ]
     },
     "metadata": {},
     "output_type": "display_data"
    },
    {
     "data": {
      "text/html": [
       "<table>\n",
       "<caption>A tibble: 6 × 4</caption>\n",
       "<thead>\n",
       "\t<tr><th scope=col>symbol</th><th scope=col>entrez</th><th scope=col>interaction_types</th><th scope=col>drug_name</th></tr>\n",
       "\t<tr><th scope=col>&lt;chr&gt;</th><th scope=col>&lt;dbl&gt;</th><th scope=col>&lt;chr&gt;</th><th scope=col>&lt;chr&gt;</th></tr>\n",
       "</thead>\n",
       "<tbody>\n",
       "\t<tr><td>CDK7   </td><td>1022</td><td>inhibitor </td><td>BMS-387032  </td></tr>\n",
       "\t<tr><td>ADORA2A</td><td> 135</td><td>antagonist</td><td>CHEMBL72862 </td></tr>\n",
       "\t<tr><td>APOE   </td><td> 348</td><td>unknown   </td><td>PREDNISONE  </td></tr>\n",
       "\t<tr><td>CYP2E1 </td><td>1571</td><td>unknown   </td><td>ISOFLAVONE  </td></tr>\n",
       "\t<tr><td>PDGFRB </td><td>5159</td><td>inhibitor </td><td>QUIZARTINIB </td></tr>\n",
       "\t<tr><td>MTOR   </td><td>2475</td><td>inhibitor </td><td>CHEMBL561708</td></tr>\n",
       "</tbody>\n",
       "</table>\n"
      ],
      "text/latex": [
       "A tibble: 6 × 4\n",
       "\\begin{tabular}{r|llll}\n",
       " symbol & entrez & interaction\\_types & drug\\_name\\\\\n",
       " <chr> & <dbl> & <chr> & <chr>\\\\\n",
       "\\hline\n",
       "\t CDK7    & 1022 & inhibitor  & BMS-387032  \\\\\n",
       "\t ADORA2A &  135 & antagonist & CHEMBL72862 \\\\\n",
       "\t APOE    &  348 & unknown    & PREDNISONE  \\\\\n",
       "\t CYP2E1  & 1571 & unknown    & ISOFLAVONE  \\\\\n",
       "\t PDGFRB  & 5159 & inhibitor  & QUIZARTINIB \\\\\n",
       "\t MTOR    & 2475 & inhibitor  & CHEMBL561708\\\\\n",
       "\\end{tabular}\n"
      ],
      "text/markdown": [
       "\n",
       "A tibble: 6 × 4\n",
       "\n",
       "| symbol &lt;chr&gt; | entrez &lt;dbl&gt; | interaction_types &lt;chr&gt; | drug_name &lt;chr&gt; |\n",
       "|---|---|---|---|\n",
       "| CDK7    | 1022 | inhibitor  | BMS-387032   |\n",
       "| ADORA2A |  135 | antagonist | CHEMBL72862  |\n",
       "| APOE    |  348 | unknown    | PREDNISONE   |\n",
       "| CYP2E1  | 1571 | unknown    | ISOFLAVONE   |\n",
       "| PDGFRB  | 5159 | inhibitor  | QUIZARTINIB  |\n",
       "| MTOR    | 2475 | inhibitor  | CHEMBL561708 |\n",
       "\n"
      ],
      "text/plain": [
       "  symbol  entrez interaction_types drug_name   \n",
       "1 CDK7    1022   inhibitor         BMS-387032  \n",
       "2 ADORA2A  135   antagonist        CHEMBL72862 \n",
       "3 APOE     348   unknown           PREDNISONE  \n",
       "4 CYP2E1  1571   unknown           ISOFLAVONE  \n",
       "5 PDGFRB  5159   inhibitor         QUIZARTINIB \n",
       "6 MTOR    2475   inhibitor         CHEMBL561708"
      ]
     },
     "metadata": {},
     "output_type": "display_data"
    },
    {
     "data": {
      "text/html": [
       "<table>\n",
       "<caption>A data.frame: 6 × 7</caption>\n",
       "<thead>\n",
       "\t<tr><th></th><th scope=col>entrez</th><th scope=col>symbol</th><th scope=col>degree</th><th scope=col>stress</th><th scope=col>Percexpressed</th><th scope=col>MLLAF4logFC</th><th scope=col>Dropoutclass</th></tr>\n",
       "\t<tr><th></th><th scope=col>&lt;chr&gt;</th><th scope=col>&lt;chr&gt;</th><th scope=col>&lt;dbl&gt;</th><th scope=col>&lt;dbl&gt;</th><th scope=col>&lt;dbl&gt;</th><th scope=col>&lt;dbl&gt;</th><th scope=col>&lt;chr&gt;</th></tr>\n",
       "</thead>\n",
       "<tbody>\n",
       "\t<tr><th scope=row>1958</th><td>1958</td><td>EGR1 </td><td> 464</td><td>29049</td><td>100.0000</td><td> 0.9345442</td><td>non-dropout                  </td></tr>\n",
       "\t<tr><th scope=row>2355</th><td>2355</td><td>FOSL2</td><td> 217</td><td> 7404</td><td> 98.4127</td><td>-0.5205269</td><td>non-dropout                  </td></tr>\n",
       "\t<tr><th scope=row>405</th><td>405 </td><td>ARNT </td><td> 559</td><td> 7646</td><td>100.0000</td><td> 0.2374961</td><td>non-leukemia-specific dropout</td></tr>\n",
       "\t<tr><th scope=row>4609</th><td>4609</td><td>MYC  </td><td>1154</td><td>89851</td><td>100.0000</td><td>-0.2487874</td><td>non-leukemia-specific dropout</td></tr>\n",
       "\t<tr><th scope=row>6239</th><td>6239</td><td>RREB1</td><td> 319</td><td>15594</td><td>100.0000</td><td> 0.2578800</td><td>non-dropout                  </td></tr>\n",
       "\t<tr><th scope=row>6772</th><td>6772</td><td>STAT1</td><td> 404</td><td>21662</td><td>100.0000</td><td> 0.2396495</td><td>non-dropout                  </td></tr>\n",
       "</tbody>\n",
       "</table>\n"
      ],
      "text/latex": [
       "A data.frame: 6 × 7\n",
       "\\begin{tabular}{r|lllllll}\n",
       "  & entrez & symbol & degree & stress & Percexpressed & MLLAF4logFC & Dropoutclass\\\\\n",
       "  & <chr> & <chr> & <dbl> & <dbl> & <dbl> & <dbl> & <chr>\\\\\n",
       "\\hline\n",
       "\t1958 & 1958 & EGR1  &  464 & 29049 & 100.0000 &  0.9345442 & non-dropout                  \\\\\n",
       "\t2355 & 2355 & FOSL2 &  217 &  7404 &  98.4127 & -0.5205269 & non-dropout                  \\\\\n",
       "\t405 & 405  & ARNT  &  559 &  7646 & 100.0000 &  0.2374961 & non-leukemia-specific dropout\\\\\n",
       "\t4609 & 4609 & MYC   & 1154 & 89851 & 100.0000 & -0.2487874 & non-leukemia-specific dropout\\\\\n",
       "\t6239 & 6239 & RREB1 &  319 & 15594 & 100.0000 &  0.2578800 & non-dropout                  \\\\\n",
       "\t6772 & 6772 & STAT1 &  404 & 21662 & 100.0000 &  0.2396495 & non-dropout                  \\\\\n",
       "\\end{tabular}\n"
      ],
      "text/markdown": [
       "\n",
       "A data.frame: 6 × 7\n",
       "\n",
       "| <!--/--> | entrez &lt;chr&gt; | symbol &lt;chr&gt; | degree &lt;dbl&gt; | stress &lt;dbl&gt; | Percexpressed &lt;dbl&gt; | MLLAF4logFC &lt;dbl&gt; | Dropoutclass &lt;chr&gt; |\n",
       "|---|---|---|---|---|---|---|---|\n",
       "| 1958 | 1958 | EGR1  |  464 | 29049 | 100.0000 |  0.9345442 | non-dropout                   |\n",
       "| 2355 | 2355 | FOSL2 |  217 |  7404 |  98.4127 | -0.5205269 | non-dropout                   |\n",
       "| 405 | 405  | ARNT  |  559 |  7646 | 100.0000 |  0.2374961 | non-leukemia-specific dropout |\n",
       "| 4609 | 4609 | MYC   | 1154 | 89851 | 100.0000 | -0.2487874 | non-leukemia-specific dropout |\n",
       "| 6239 | 6239 | RREB1 |  319 | 15594 | 100.0000 |  0.2578800 | non-dropout                   |\n",
       "| 6772 | 6772 | STAT1 |  404 | 21662 | 100.0000 |  0.2396495 | non-dropout                   |\n",
       "\n"
      ],
      "text/plain": [
       "     entrez symbol degree stress Percexpressed MLLAF4logFC\n",
       "1958 1958   EGR1    464   29049  100.0000       0.9345442 \n",
       "2355 2355   FOSL2   217    7404   98.4127      -0.5205269 \n",
       "405  405    ARNT    559    7646  100.0000       0.2374961 \n",
       "4609 4609   MYC    1154   89851  100.0000      -0.2487874 \n",
       "6239 6239   RREB1   319   15594  100.0000       0.2578800 \n",
       "6772 6772   STAT1   404   21662  100.0000       0.2396495 \n",
       "     Dropoutclass                 \n",
       "1958 non-dropout                  \n",
       "2355 non-dropout                  \n",
       "405  non-leukemia-specific dropout\n",
       "4609 non-leukemia-specific dropout\n",
       "6239 non-dropout                  \n",
       "6772 non-dropout                  "
      ]
     },
     "metadata": {},
     "output_type": "display_data"
    }
   ],
   "source": [
    "head(drugs)\n",
    "\n",
    "head(drug_int)\n",
    "\n",
    "head(nodes)"
   ]
  },
  {
   "cell_type": "markdown",
   "metadata": {},
   "source": [
    "## Drug hits in network\n",
    "Here we're first establishing the genes targeted by each drug, then determining the frequency of hits in the GRN and the frequency of offtarget hits."
   ]
  },
  {
   "cell_type": "code",
   "execution_count": 6,
   "metadata": {
    "collapsed": false
   },
   "outputs": [],
   "source": [
    "genes_per_drug <- sapply(drugs, function(d){\n",
    "    g <- drug_int$symbol[drug_int$drug_name == d] %>%\n",
    "        unique()\n",
    "})"
   ]
  },
  {
   "cell_type": "code",
   "execution_count": 7,
   "metadata": {
    "collapsed": false
   },
   "outputs": [],
   "source": [
    "drug_net_df <- lapply(genes_per_drug, function(g){\n",
    "    c(\n",
    "        freq_in_network = sum(nodes$symbol %in% g),\n",
    "        freq_offtarget = sum(!(g %in% nodes$symbol))\n",
    "    )\n",
    "}) %>%\n",
    "    bind_rows() %>%\n",
    "    t() %>%\n",
    "    data.frame() %>%\n",
    "    rename(freq_in_network = X1, freq_offtarget = X2) %>%\n",
    "    rownames_to_column(\"drug_name\") %>%\n",
    "    mutate(perc_on_target = freq_in_network/(freq_in_network + freq_offtarget) * 100) %>%\n",
    "    arrange(desc(freq_in_network))"
   ]
  },
  {
   "cell_type": "code",
   "execution_count": 8,
   "metadata": {
    "collapsed": false
   },
   "outputs": [
    {
     "data": {
      "text/html": [
       "<table>\n",
       "<caption>A data.frame: 6 × 4</caption>\n",
       "<thead>\n",
       "\t<tr><th scope=col>drug_name</th><th scope=col>freq_in_network</th><th scope=col>freq_offtarget</th><th scope=col>perc_on_target</th></tr>\n",
       "\t<tr><th scope=col>&lt;chr&gt;</th><th scope=col>&lt;int&gt;</th><th scope=col>&lt;int&gt;</th><th scope=col>&lt;dbl&gt;</th></tr>\n",
       "</thead>\n",
       "<tbody>\n",
       "\t<tr><td>BORTEZOMIB      </td><td>39</td><td>35</td><td>52.70270</td></tr>\n",
       "\t<tr><td>CARFILZOMIB     </td><td>31</td><td>23</td><td>57.40741</td></tr>\n",
       "\t<tr><td>PACLITAXEL      </td><td>29</td><td>40</td><td>42.02899</td></tr>\n",
       "\t<tr><td>OPROZOMIB       </td><td>29</td><td> 9</td><td>76.31579</td></tr>\n",
       "\t<tr><td>IXAZOMIB CITRATE</td><td>29</td><td> 9</td><td>76.31579</td></tr>\n",
       "\t<tr><td>TRETINOIN       </td><td>28</td><td>50</td><td>35.89744</td></tr>\n",
       "</tbody>\n",
       "</table>\n"
      ],
      "text/latex": [
       "A data.frame: 6 × 4\n",
       "\\begin{tabular}{r|llll}\n",
       " drug\\_name & freq\\_in\\_network & freq\\_offtarget & perc\\_on\\_target\\\\\n",
       " <chr> & <int> & <int> & <dbl>\\\\\n",
       "\\hline\n",
       "\t BORTEZOMIB       & 39 & 35 & 52.70270\\\\\n",
       "\t CARFILZOMIB      & 31 & 23 & 57.40741\\\\\n",
       "\t PACLITAXEL       & 29 & 40 & 42.02899\\\\\n",
       "\t OPROZOMIB        & 29 &  9 & 76.31579\\\\\n",
       "\t IXAZOMIB CITRATE & 29 &  9 & 76.31579\\\\\n",
       "\t TRETINOIN        & 28 & 50 & 35.89744\\\\\n",
       "\\end{tabular}\n"
      ],
      "text/markdown": [
       "\n",
       "A data.frame: 6 × 4\n",
       "\n",
       "| drug_name &lt;chr&gt; | freq_in_network &lt;int&gt; | freq_offtarget &lt;int&gt; | perc_on_target &lt;dbl&gt; |\n",
       "|---|---|---|---|\n",
       "| BORTEZOMIB       | 39 | 35 | 52.70270 |\n",
       "| CARFILZOMIB      | 31 | 23 | 57.40741 |\n",
       "| PACLITAXEL       | 29 | 40 | 42.02899 |\n",
       "| OPROZOMIB        | 29 |  9 | 76.31579 |\n",
       "| IXAZOMIB CITRATE | 29 |  9 | 76.31579 |\n",
       "| TRETINOIN        | 28 | 50 | 35.89744 |\n",
       "\n"
      ],
      "text/plain": [
       "  drug_name        freq_in_network freq_offtarget perc_on_target\n",
       "1 BORTEZOMIB       39              35             52.70270      \n",
       "2 CARFILZOMIB      31              23             57.40741      \n",
       "3 PACLITAXEL       29              40             42.02899      \n",
       "4 OPROZOMIB        29               9             76.31579      \n",
       "5 IXAZOMIB CITRATE 29               9             76.31579      \n",
       "6 TRETINOIN        28              50             35.89744      "
      ]
     },
     "metadata": {},
     "output_type": "display_data"
    }
   ],
   "source": [
    "head(drug_net_df)"
   ]
  },
  {
   "cell_type": "markdown",
   "metadata": {},
   "source": [
    "## Plotting on target hits against offtarget"
   ]
  },
  {
   "cell_type": "code",
   "execution_count": 9,
   "metadata": {},
   "outputs": [
    {
     "data": {
      "image/png": "[encoded data removed]",
      "text/plain": [
       "plot without title"
      ]
     },
     "metadata": {},
     "output_type": "display_data"
    }
   ],
   "source": [
    "p <- ggplot(drug_net_df, aes(x=freq_offtarget, y=freq_in_network, fill=perc_on_target)) +\n",
    "    geom_abline(intercept = 0, slope = 1, lty=2, col=\"grey60\") +\n",
    "    geom_point(pch=21) +\n",
    "    geom_text_repel(aes(label = drug_name), data=filter(drug_net_df, perc_on_target > 50 & freq_in_network > 5), nudge_y = 1) +\n",
    "    scale_fill_gradient(low = \"white\", high = \"red\") +\n",
    "    theme_classic() +\n",
    "    theme(legend.position=\"bottom\") +\n",
    "    ggtitle(\"On target vs off target hits of DGIdb drugs in the MLL-AF4 GRN\")\n",
    "\n",
    "p"
   ]
  },
  {
   "cell_type": "code",
   "execution_count": null,
   "metadata": {
    "collapsed": false
   },
   "outputs": [],
   "source": []
  },
  {
   "cell_type": "code",
   "execution_count": 10,
   "metadata": {
    "collapsed": false
   },
   "outputs": [],
   "source": [
    "ggsave(\"on-target_vs_off-target_hits_DGIdb_screen.pdf\", p, height=6, width=6, useDingbats = F)"
   ]
  },
  {
   "cell_type": "markdown",
   "metadata": {},
   "source": [
    "## What are the most \"specific\" drugs?\n",
    "Below is the list of drugs, and their targets, that hit more than 5 nodes of the GRN and have > 50% on target hit rate.\n",
    "\n",
    "We can see here that the most promising drugs are OPROZOMIB, IXAZOMIB CITRATE and MARIZOMIB. Other drugs either do not effect many nodes of the network, or have fairly poor on target percentage (CARFILZOMIB, BORTEZOMIB)\n",
    "\n",
    "* OPROZOMIB is a proteasome inhibitor that is structurally related to CARFILZOMIB, and is being investigated for treatment of multiple myeloma\n",
    "* IZAXOMIB CITRATE is a proteasome inhibitor that is also being investigated for treatment of multiple myeloma\n",
    "\n",
    "Worth pointing out, according to DGIdb OPROZOMIB and IXAZOMIB CITRATE interact with the same set of genes, and may have simply had the entire proteasome set as interactions rather than specific aspects..."
   ]
  },
  {
   "cell_type": "code",
   "execution_count": 16,
   "metadata": {
    "collapsed": false
   },
   "outputs": [
    {
     "data": {
      "text/html": [
       "<table>\n",
       "<caption>A data.frame: 6 × 5</caption>\n",
       "<thead>\n",
       "\t<tr><th scope=col>drug_name</th><th scope=col>freq_in_network</th><th scope=col>freq_offtarget</th><th scope=col>perc_on_target</th><th scope=col>specific</th></tr>\n",
       "\t<tr><th scope=col>&lt;chr&gt;</th><th scope=col>&lt;int&gt;</th><th scope=col>&lt;int&gt;</th><th scope=col>&lt;dbl&gt;</th><th scope=col>&lt;lgl&gt;</th></tr>\n",
       "</thead>\n",
       "<tbody>\n",
       "\t<tr><td>BORTEZOMIB      </td><td>39</td><td>35</td><td>52.70270</td><td>TRUE</td></tr>\n",
       "\t<tr><td>CARFILZOMIB     </td><td>31</td><td>23</td><td>57.40741</td><td>TRUE</td></tr>\n",
       "\t<tr><td>OPROZOMIB       </td><td>29</td><td> 9</td><td>76.31579</td><td>TRUE</td></tr>\n",
       "\t<tr><td>IXAZOMIB CITRATE</td><td>29</td><td> 9</td><td>76.31579</td><td>TRUE</td></tr>\n",
       "\t<tr><td>ENMD-2076       </td><td>13</td><td>11</td><td>54.16667</td><td>TRUE</td></tr>\n",
       "\t<tr><td>MARIZOMIB       </td><td>13</td><td> 6</td><td>68.42105</td><td>TRUE</td></tr>\n",
       "</tbody>\n",
       "</table>\n"
      ],
      "text/latex": [
       "A data.frame: 6 × 5\n",
       "\\begin{tabular}{r|lllll}\n",
       " drug\\_name & freq\\_in\\_network & freq\\_offtarget & perc\\_on\\_target & specific\\\\\n",
       " <chr> & <int> & <int> & <dbl> & <lgl>\\\\\n",
       "\\hline\n",
       "\t BORTEZOMIB       & 39 & 35 & 52.70270 & TRUE\\\\\n",
       "\t CARFILZOMIB      & 31 & 23 & 57.40741 & TRUE\\\\\n",
       "\t OPROZOMIB        & 29 &  9 & 76.31579 & TRUE\\\\\n",
       "\t IXAZOMIB CITRATE & 29 &  9 & 76.31579 & TRUE\\\\\n",
       "\t ENMD-2076        & 13 & 11 & 54.16667 & TRUE\\\\\n",
       "\t MARIZOMIB        & 13 &  6 & 68.42105 & TRUE\\\\\n",
       "\\end{tabular}\n"
      ],
      "text/markdown": [
       "\n",
       "A data.frame: 6 × 5\n",
       "\n",
       "| drug_name &lt;chr&gt; | freq_in_network &lt;int&gt; | freq_offtarget &lt;int&gt; | perc_on_target &lt;dbl&gt; | specific &lt;lgl&gt; |\n",
       "|---|---|---|---|---|\n",
       "| BORTEZOMIB       | 39 | 35 | 52.70270 | TRUE |\n",
       "| CARFILZOMIB      | 31 | 23 | 57.40741 | TRUE |\n",
       "| OPROZOMIB        | 29 |  9 | 76.31579 | TRUE |\n",
       "| IXAZOMIB CITRATE | 29 |  9 | 76.31579 | TRUE |\n",
       "| ENMD-2076        | 13 | 11 | 54.16667 | TRUE |\n",
       "| MARIZOMIB        | 13 |  6 | 68.42105 | TRUE |\n",
       "\n"
      ],
      "text/plain": [
       "  drug_name        freq_in_network freq_offtarget perc_on_target specific\n",
       "1 BORTEZOMIB       39              35             52.70270       TRUE    \n",
       "2 CARFILZOMIB      31              23             57.40741       TRUE    \n",
       "3 OPROZOMIB        29               9             76.31579       TRUE    \n",
       "4 IXAZOMIB CITRATE 29               9             76.31579       TRUE    \n",
       "5 ENMD-2076        13              11             54.16667       TRUE    \n",
       "6 MARIZOMIB        13               6             68.42105       TRUE    "
      ]
     },
     "metadata": {},
     "output_type": "display_data"
    }
   ],
   "source": [
    "drugs.df <- drug_net_df %>%\n",
    "    mutate(specific = perc_on_target > 50 & freq_in_network > 5) %>%\n",
    "    arrange(desc(specific))\n",
    "\n",
    "drugs.df %>% head"
   ]
  },
  {
   "cell_type": "code",
   "execution_count": 17,
   "metadata": {},
   "outputs": [],
   "source": [
    "write_csv(drugs.df, \"GRN_DGIdb_overlap.csv\")"
   ]
  },
  {
   "cell_type": "code",
   "execution_count": 13,
   "metadata": {
    "collapsed": false
   },
   "outputs": [
    {
     "name": "stdout",
     "output_type": "stream",
     "text": [
      "[1] \"OPROZOMIB:\"\n"
     ]
    },
    {
     "data": {
      "text/html": [
       "<ol class=list-inline>\n",
       "\t<li>'ADRM1'</li>\n",
       "\t<li>'PSMA1'</li>\n",
       "\t<li>'PSMA2'</li>\n",
       "\t<li>'PSMA3'</li>\n",
       "\t<li>'PSMA4'</li>\n",
       "\t<li>'PSMA5'</li>\n",
       "\t<li>'PSMA6'</li>\n",
       "\t<li>'PSMA7'</li>\n",
       "\t<li>'PSMA8'</li>\n",
       "\t<li>'PSMB1'</li>\n",
       "\t<li>'PSMB10'</li>\n",
       "\t<li>'PSMB11'</li>\n",
       "\t<li>'PSMB2'</li>\n",
       "\t<li>'PSMB3'</li>\n",
       "\t<li>'PSMB4'</li>\n",
       "\t<li>'PSMB5'</li>\n",
       "\t<li>'PSMB6'</li>\n",
       "\t<li>'PSMB7'</li>\n",
       "\t<li>'PSMB8'</li>\n",
       "\t<li>'PSMB9'</li>\n",
       "\t<li>'PSMC1'</li>\n",
       "\t<li>'PSMC2'</li>\n",
       "\t<li>'PSMC3'</li>\n",
       "\t<li>'PSMC4'</li>\n",
       "\t<li>'PSMC5'</li>\n",
       "\t<li>'PSMC6'</li>\n",
       "\t<li>'PSMD1'</li>\n",
       "\t<li>'PSMD11'</li>\n",
       "\t<li>'PSMD12'</li>\n",
       "\t<li>'PSMD13'</li>\n",
       "\t<li>'PSMD14'</li>\n",
       "\t<li>'PSMD2'</li>\n",
       "\t<li>'PSMD3'</li>\n",
       "\t<li>'PSMD4'</li>\n",
       "\t<li>'PSMD6'</li>\n",
       "\t<li>'PSMD7'</li>\n",
       "\t<li>'PSMD8'</li>\n",
       "\t<li>'SEM1'</li>\n",
       "</ol>\n"
      ],
      "text/latex": [
       "\\begin{enumerate*}\n",
       "\\item 'ADRM1'\n",
       "\\item 'PSMA1'\n",
       "\\item 'PSMA2'\n",
       "\\item 'PSMA3'\n",
       "\\item 'PSMA4'\n",
       "\\item 'PSMA5'\n",
       "\\item 'PSMA6'\n",
       "\\item 'PSMA7'\n",
       "\\item 'PSMA8'\n",
       "\\item 'PSMB1'\n",
       "\\item 'PSMB10'\n",
       "\\item 'PSMB11'\n",
       "\\item 'PSMB2'\n",
       "\\item 'PSMB3'\n",
       "\\item 'PSMB4'\n",
       "\\item 'PSMB5'\n",
       "\\item 'PSMB6'\n",
       "\\item 'PSMB7'\n",
       "\\item 'PSMB8'\n",
       "\\item 'PSMB9'\n",
       "\\item 'PSMC1'\n",
       "\\item 'PSMC2'\n",
       "\\item 'PSMC3'\n",
       "\\item 'PSMC4'\n",
       "\\item 'PSMC5'\n",
       "\\item 'PSMC6'\n",
       "\\item 'PSMD1'\n",
       "\\item 'PSMD11'\n",
       "\\item 'PSMD12'\n",
       "\\item 'PSMD13'\n",
       "\\item 'PSMD14'\n",
       "\\item 'PSMD2'\n",
       "\\item 'PSMD3'\n",
       "\\item 'PSMD4'\n",
       "\\item 'PSMD6'\n",
       "\\item 'PSMD7'\n",
       "\\item 'PSMD8'\n",
       "\\item 'SEM1'\n",
       "\\end{enumerate*}\n"
      ],
      "text/markdown": [
       "1. 'ADRM1'\n",
       "2. 'PSMA1'\n",
       "3. 'PSMA2'\n",
       "4. 'PSMA3'\n",
       "5. 'PSMA4'\n",
       "6. 'PSMA5'\n",
       "7. 'PSMA6'\n",
       "8. 'PSMA7'\n",
       "9. 'PSMA8'\n",
       "10. 'PSMB1'\n",
       "11. 'PSMB10'\n",
       "12. 'PSMB11'\n",
       "13. 'PSMB2'\n",
       "14. 'PSMB3'\n",
       "15. 'PSMB4'\n",
       "16. 'PSMB5'\n",
       "17. 'PSMB6'\n",
       "18. 'PSMB7'\n",
       "19. 'PSMB8'\n",
       "20. 'PSMB9'\n",
       "21. 'PSMC1'\n",
       "22. 'PSMC2'\n",
       "23. 'PSMC3'\n",
       "24. 'PSMC4'\n",
       "25. 'PSMC5'\n",
       "26. 'PSMC6'\n",
       "27. 'PSMD1'\n",
       "28. 'PSMD11'\n",
       "29. 'PSMD12'\n",
       "30. 'PSMD13'\n",
       "31. 'PSMD14'\n",
       "32. 'PSMD2'\n",
       "33. 'PSMD3'\n",
       "34. 'PSMD4'\n",
       "35. 'PSMD6'\n",
       "36. 'PSMD7'\n",
       "37. 'PSMD8'\n",
       "38. 'SEM1'\n",
       "\n",
       "\n"
      ],
      "text/plain": [
       " [1] \"ADRM1\"  \"PSMA1\"  \"PSMA2\"  \"PSMA3\"  \"PSMA4\"  \"PSMA5\"  \"PSMA6\"  \"PSMA7\" \n",
       " [9] \"PSMA8\"  \"PSMB1\"  \"PSMB10\" \"PSMB11\" \"PSMB2\"  \"PSMB3\"  \"PSMB4\"  \"PSMB5\" \n",
       "[17] \"PSMB6\"  \"PSMB7\"  \"PSMB8\"  \"PSMB9\"  \"PSMC1\"  \"PSMC2\"  \"PSMC3\"  \"PSMC4\" \n",
       "[25] \"PSMC5\"  \"PSMC6\"  \"PSMD1\"  \"PSMD11\" \"PSMD12\" \"PSMD13\" \"PSMD14\" \"PSMD2\" \n",
       "[33] \"PSMD3\"  \"PSMD4\"  \"PSMD6\"  \"PSMD7\"  \"PSMD8\"  \"SEM1\"  "
      ]
     },
     "metadata": {},
     "output_type": "display_data"
    },
    {
     "name": "stdout",
     "output_type": "stream",
     "text": [
      "[1] \"IXAZOMIB CITRATE:\"\n"
     ]
    },
    {
     "data": {
      "text/html": [
       "<ol class=list-inline>\n",
       "\t<li>'ADRM1'</li>\n",
       "\t<li>'PSMA1'</li>\n",
       "\t<li>'PSMA2'</li>\n",
       "\t<li>'PSMA3'</li>\n",
       "\t<li>'PSMA4'</li>\n",
       "\t<li>'PSMA5'</li>\n",
       "\t<li>'PSMA6'</li>\n",
       "\t<li>'PSMA7'</li>\n",
       "\t<li>'PSMA8'</li>\n",
       "\t<li>'PSMB1'</li>\n",
       "\t<li>'PSMB10'</li>\n",
       "\t<li>'PSMB11'</li>\n",
       "\t<li>'PSMB2'</li>\n",
       "\t<li>'PSMB3'</li>\n",
       "\t<li>'PSMB4'</li>\n",
       "\t<li>'PSMB5'</li>\n",
       "\t<li>'PSMB6'</li>\n",
       "\t<li>'PSMB7'</li>\n",
       "\t<li>'PSMB8'</li>\n",
       "\t<li>'PSMB9'</li>\n",
       "\t<li>'PSMC1'</li>\n",
       "\t<li>'PSMC2'</li>\n",
       "\t<li>'PSMC3'</li>\n",
       "\t<li>'PSMC4'</li>\n",
       "\t<li>'PSMC5'</li>\n",
       "\t<li>'PSMC6'</li>\n",
       "\t<li>'PSMD1'</li>\n",
       "\t<li>'PSMD11'</li>\n",
       "\t<li>'PSMD12'</li>\n",
       "\t<li>'PSMD13'</li>\n",
       "\t<li>'PSMD14'</li>\n",
       "\t<li>'PSMD2'</li>\n",
       "\t<li>'PSMD3'</li>\n",
       "\t<li>'PSMD4'</li>\n",
       "\t<li>'PSMD6'</li>\n",
       "\t<li>'PSMD7'</li>\n",
       "\t<li>'PSMD8'</li>\n",
       "\t<li>'SEM1'</li>\n",
       "</ol>\n"
      ],
      "text/latex": [
       "\\begin{enumerate*}\n",
       "\\item 'ADRM1'\n",
       "\\item 'PSMA1'\n",
       "\\item 'PSMA2'\n",
       "\\item 'PSMA3'\n",
       "\\item 'PSMA4'\n",
       "\\item 'PSMA5'\n",
       "\\item 'PSMA6'\n",
       "\\item 'PSMA7'\n",
       "\\item 'PSMA8'\n",
       "\\item 'PSMB1'\n",
       "\\item 'PSMB10'\n",
       "\\item 'PSMB11'\n",
       "\\item 'PSMB2'\n",
       "\\item 'PSMB3'\n",
       "\\item 'PSMB4'\n",
       "\\item 'PSMB5'\n",
       "\\item 'PSMB6'\n",
       "\\item 'PSMB7'\n",
       "\\item 'PSMB8'\n",
       "\\item 'PSMB9'\n",
       "\\item 'PSMC1'\n",
       "\\item 'PSMC2'\n",
       "\\item 'PSMC3'\n",
       "\\item 'PSMC4'\n",
       "\\item 'PSMC5'\n",
       "\\item 'PSMC6'\n",
       "\\item 'PSMD1'\n",
       "\\item 'PSMD11'\n",
       "\\item 'PSMD12'\n",
       "\\item 'PSMD13'\n",
       "\\item 'PSMD14'\n",
       "\\item 'PSMD2'\n",
       "\\item 'PSMD3'\n",
       "\\item 'PSMD4'\n",
       "\\item 'PSMD6'\n",
       "\\item 'PSMD7'\n",
       "\\item 'PSMD8'\n",
       "\\item 'SEM1'\n",
       "\\end{enumerate*}\n"
      ],
      "text/markdown": [
       "1. 'ADRM1'\n",
       "2. 'PSMA1'\n",
       "3. 'PSMA2'\n",
       "4. 'PSMA3'\n",
       "5. 'PSMA4'\n",
       "6. 'PSMA5'\n",
       "7. 'PSMA6'\n",
       "8. 'PSMA7'\n",
       "9. 'PSMA8'\n",
       "10. 'PSMB1'\n",
       "11. 'PSMB10'\n",
       "12. 'PSMB11'\n",
       "13. 'PSMB2'\n",
       "14. 'PSMB3'\n",
       "15. 'PSMB4'\n",
       "16. 'PSMB5'\n",
       "17. 'PSMB6'\n",
       "18. 'PSMB7'\n",
       "19. 'PSMB8'\n",
       "20. 'PSMB9'\n",
       "21. 'PSMC1'\n",
       "22. 'PSMC2'\n",
       "23. 'PSMC3'\n",
       "24. 'PSMC4'\n",
       "25. 'PSMC5'\n",
       "26. 'PSMC6'\n",
       "27. 'PSMD1'\n",
       "28. 'PSMD11'\n",
       "29. 'PSMD12'\n",
       "30. 'PSMD13'\n",
       "31. 'PSMD14'\n",
       "32. 'PSMD2'\n",
       "33. 'PSMD3'\n",
       "34. 'PSMD4'\n",
       "35. 'PSMD6'\n",
       "36. 'PSMD7'\n",
       "37. 'PSMD8'\n",
       "38. 'SEM1'\n",
       "\n",
       "\n"
      ],
      "text/plain": [
       " [1] \"ADRM1\"  \"PSMA1\"  \"PSMA2\"  \"PSMA3\"  \"PSMA4\"  \"PSMA5\"  \"PSMA6\"  \"PSMA7\" \n",
       " [9] \"PSMA8\"  \"PSMB1\"  \"PSMB10\" \"PSMB11\" \"PSMB2\"  \"PSMB3\"  \"PSMB4\"  \"PSMB5\" \n",
       "[17] \"PSMB6\"  \"PSMB7\"  \"PSMB8\"  \"PSMB9\"  \"PSMC1\"  \"PSMC2\"  \"PSMC3\"  \"PSMC4\" \n",
       "[25] \"PSMC5\"  \"PSMC6\"  \"PSMD1\"  \"PSMD11\" \"PSMD12\" \"PSMD13\" \"PSMD14\" \"PSMD2\" \n",
       "[33] \"PSMD3\"  \"PSMD4\"  \"PSMD6\"  \"PSMD7\"  \"PSMD8\"  \"SEM1\"  "
      ]
     },
     "metadata": {},
     "output_type": "display_data"
    }
   ],
   "source": [
    "print(\"OPROZOMIB:\")\n",
    "genes_per_drug$OPROZOMIB %>% sort()\n",
    "\n",
    "print(\"IXAZOMIB CITRATE:\")\n",
    "genes_per_drug$`IXAZOMIB CITRATE` %>% sort()"
   ]
  },
  {
   "cell_type": "code",
   "execution_count": 24,
   "metadata": {
    "collapsed": false
   },
   "outputs": [
    {
     "data": {
      "text/html": [
       "<ol class=list-inline>\n",
       "\t<li>TRUE</li>\n",
       "\t<li>TRUE</li>\n",
       "\t<li>TRUE</li>\n",
       "\t<li>TRUE</li>\n",
       "\t<li>TRUE</li>\n",
       "\t<li>TRUE</li>\n",
       "\t<li>TRUE</li>\n",
       "\t<li>TRUE</li>\n",
       "\t<li>TRUE</li>\n",
       "\t<li>TRUE</li>\n",
       "\t<li>TRUE</li>\n",
       "\t<li>TRUE</li>\n",
       "\t<li>TRUE</li>\n",
       "\t<li>TRUE</li>\n",
       "\t<li>TRUE</li>\n",
       "\t<li>TRUE</li>\n",
       "\t<li>TRUE</li>\n",
       "\t<li>TRUE</li>\n",
       "\t<li>TRUE</li>\n",
       "\t<li>TRUE</li>\n",
       "\t<li>TRUE</li>\n",
       "\t<li>TRUE</li>\n",
       "\t<li>TRUE</li>\n",
       "\t<li>TRUE</li>\n",
       "\t<li>TRUE</li>\n",
       "\t<li>TRUE</li>\n",
       "\t<li>TRUE</li>\n",
       "\t<li>TRUE</li>\n",
       "\t<li>TRUE</li>\n",
       "\t<li>TRUE</li>\n",
       "\t<li>TRUE</li>\n",
       "\t<li>TRUE</li>\n",
       "\t<li>TRUE</li>\n",
       "\t<li>TRUE</li>\n",
       "\t<li>TRUE</li>\n",
       "\t<li>TRUE</li>\n",
       "\t<li>TRUE</li>\n",
       "\t<li>TRUE</li>\n",
       "</ol>\n"
      ],
      "text/latex": [
       "\\begin{enumerate*}\n",
       "\\item TRUE\n",
       "\\item TRUE\n",
       "\\item TRUE\n",
       "\\item TRUE\n",
       "\\item TRUE\n",
       "\\item TRUE\n",
       "\\item TRUE\n",
       "\\item TRUE\n",
       "\\item TRUE\n",
       "\\item TRUE\n",
       "\\item TRUE\n",
       "\\item TRUE\n",
       "\\item TRUE\n",
       "\\item TRUE\n",
       "\\item TRUE\n",
       "\\item TRUE\n",
       "\\item TRUE\n",
       "\\item TRUE\n",
       "\\item TRUE\n",
       "\\item TRUE\n",
       "\\item TRUE\n",
       "\\item TRUE\n",
       "\\item TRUE\n",
       "\\item TRUE\n",
       "\\item TRUE\n",
       "\\item TRUE\n",
       "\\item TRUE\n",
       "\\item TRUE\n",
       "\\item TRUE\n",
       "\\item TRUE\n",
       "\\item TRUE\n",
       "\\item TRUE\n",
       "\\item TRUE\n",
       "\\item TRUE\n",
       "\\item TRUE\n",
       "\\item TRUE\n",
       "\\item TRUE\n",
       "\\item TRUE\n",
       "\\end{enumerate*}\n"
      ],
      "text/markdown": [
       "1. TRUE\n",
       "2. TRUE\n",
       "3. TRUE\n",
       "4. TRUE\n",
       "5. TRUE\n",
       "6. TRUE\n",
       "7. TRUE\n",
       "8. TRUE\n",
       "9. TRUE\n",
       "10. TRUE\n",
       "11. TRUE\n",
       "12. TRUE\n",
       "13. TRUE\n",
       "14. TRUE\n",
       "15. TRUE\n",
       "16. TRUE\n",
       "17. TRUE\n",
       "18. TRUE\n",
       "19. TRUE\n",
       "20. TRUE\n",
       "21. TRUE\n",
       "22. TRUE\n",
       "23. TRUE\n",
       "24. TRUE\n",
       "25. TRUE\n",
       "26. TRUE\n",
       "27. TRUE\n",
       "28. TRUE\n",
       "29. TRUE\n",
       "30. TRUE\n",
       "31. TRUE\n",
       "32. TRUE\n",
       "33. TRUE\n",
       "34. TRUE\n",
       "35. TRUE\n",
       "36. TRUE\n",
       "37. TRUE\n",
       "38. TRUE\n",
       "\n",
       "\n"
      ],
      "text/plain": [
       " [1] TRUE TRUE TRUE TRUE TRUE TRUE TRUE TRUE TRUE TRUE TRUE TRUE TRUE TRUE TRUE\n",
       "[16] TRUE TRUE TRUE TRUE TRUE TRUE TRUE TRUE TRUE TRUE TRUE TRUE TRUE TRUE TRUE\n",
       "[31] TRUE TRUE TRUE TRUE TRUE TRUE TRUE TRUE"
      ]
     },
     "metadata": {},
     "output_type": "display_data"
    }
   ],
   "source": [
    "genes_per_drug$OPROZOMIB %in% genes_per_drug$CARFILZOMIB"
   ]
  },
  {
   "cell_type": "code",
   "execution_count": null,
   "metadata": {},
   "outputs": [],
   "source": []
  }
 ],
 "metadata": {
  "anaconda-cloud": {},
  "kernelspec": {
   "display_name": "R 3.4",
   "language": "R",
   "name": "ir34"
  },
  "language_info": {
   "codemirror_mode": "r",
   "file_extension": ".r",
   "mimetype": "text/x-r-source",
   "name": "R",
   "pygments_lexer": "r",
   "version": "3.6.1"
  },
  "toc": {
   "base_numbering": 1,
   "nav_menu": {},
   "number_sections": true,
   "sideBar": true,
   "skip_h1_title": true,
   "title_cell": "Table of Contents",
   "title_sidebar": "Contents",
   "toc_cell": false,
   "toc_position": {},
   "toc_section_display": true,
   "toc_window_display": false
  }
 },
 "nbformat": 4,
 "nbformat_minor": 2
}
